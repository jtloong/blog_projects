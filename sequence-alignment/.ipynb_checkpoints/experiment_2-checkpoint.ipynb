{
 "cells": [
  {
   "cell_type": "code",
   "execution_count": 48,
   "metadata": {},
   "outputs": [],
   "source": [
    "import numpy as np"
   ]
  },
  {
   "cell_type": "code",
   "execution_count": 97,
   "metadata": {},
   "outputs": [],
   "source": [
    "seq1 = ['A', 'C', 'T', 'C', 'G']\n",
    "seq2 = ['A', 'C', 'A', 'G', 'T', 'A', 'G']"
   ]
  },
  {
   "cell_type": "code",
   "execution_count": 98,
   "metadata": {},
   "outputs": [],
   "source": [
    "def initialize(matrix_type):\n",
    "    # For matrix type - Score matrix is 0 & Direction matrix is 1\n",
    "    if matrix_type == 0:\n",
    "        matrix = np.zeros((len(seq2) + 1, len(seq1) + 1))\n",
    "        #First row\n",
    "        for i, cell in enumerate(matrix[0]):\n",
    "            if i != 0:\n",
    "                matrix[0, i] = cell + (-1 * i)\n",
    "        #First column\n",
    "        for i, cell in enumerate(matrix[:,0]):\n",
    "            if i != 0:\n",
    "                matrix[i, 0] = cell + (-1 * i)\n",
    "        matrix[1:,1:] = np.nan\n",
    "        return matrix\n",
    "    else:\n",
    "        matrix = np.chararray((len(seq2) + 1, len(seq1) + 1), itemsize=2, unicode=True)\n",
    "        matrix[:,:] = 0\n",
    "        for i, cell in enumerate(matrix[0]):\n",
    "            if i != 0:\n",
    "                matrix[0, i] = str(np.float(cell) + (-1 * i))\n",
    "        #First column\n",
    "        for i, cell in enumerate(matrix[:,0]):\n",
    "            if i != 0:\n",
    "                matrix[i, 0] = np.float(cell) + (-1 * i)\n",
    "        return matrix"
   ]
  },
  {
   "cell_type": "code",
   "execution_count": null,
   "metadata": {},
   "outputs": [],
   "source": []
  },
  {
   "cell_type": "code",
   "execution_count": 100,
   "metadata": {},
   "outputs": [],
   "source": [
    "def find_d_score(diagonol, codon_1, codon_2):\n",
    "    return diagonol + 1 if codon_1 == codon_2 else diagonol + 0\n",
    "\n",
    "find_h_score = lambda left: left + -1\n",
    "find_v_score = lambda top: top + -1\n",
    "\n",
    "def find_score(diagonol, left, top, codon_1, codon_2):\n",
    "    d_score = find_d_score(diagonol, codon_1, codon_2)\n",
    "    h_score = find_h_score(left)\n",
    "    v_score = find_v_score(top)\n",
    "\n",
    "    score = max(d_score, h_score, v_score)\n",
    "#     print('d: ', d_score, ' h: ', h_score, ' v: ', v_score, ' | score: ', score)\n",
    "    return score\n",
    "\n",
    "def find_direction(diagonol, left, top, codon_1, codon_2):\n",
    "    d_score = find_d_score(diagonol, codon_1, codon_2)\n",
    "    h_score = find_h_score(left)\n",
    "    v_score = find_v_score(top)\n",
    "\n",
    "    if d_score > (h_score and v_score):\n",
    "        return '↖'\n",
    "    elif h_score > v_score:\n",
    "        return '←'\n",
    "    else:\n",
    "        return '↑'"
   ]
  },
  {
   "cell_type": "code",
   "execution_count": 101,
   "metadata": {},
   "outputs": [
    {
     "name": "stdout",
     "output_type": "stream",
     "text": [
      "[[ 0. -1. -2. -3. -4. -5.]\n",
      " [-1.  1.  0. -1. -2. -3.]\n",
      " [-2.  0.  2.  1.  0. -1.]\n",
      " [-3. -1.  1.  2.  1.  0.]\n",
      " [-4. -2.  0.  1.  2.  2.]\n",
      " [-5. -3. -1.  1.  1.  2.]\n",
      " [-6. -4. -2.  0.  1.  1.]\n",
      " [-7. -5. -3. -1.  0.  2.]]\n",
      "[['0' '-1' '-2' '-3' '-4' '-5']\n",
      " ['-1' '↖' '←' '↖' '↖' '↖']\n",
      " ['-2' '↑' '↖' '↖' '←' '↖']\n",
      " ['-3' '↑' '↑' '↖' '↖' '←']\n",
      " ['-4' '↑' '↑' '↑' '↖' '↖']\n",
      " ['-5' '↑' '↑' '↖' '↖' '↖']\n",
      " ['-6' '↑' '↑' '↑' '↖' '↖']\n",
      " ['-7' '↑' '↑' '↑' '↑' '↖']]\n"
     ]
    }
   ],
   "source": [
    "score_matrix = initialize(0)\n",
    "direction_matrix = initialize(1)\n",
    "for i, row in enumerate(score_matrix):\n",
    "    if i != 0:\n",
    "        codon2 = seq2[i - 1]\n",
    "        for j, value in enumerate(row):\n",
    "            if (j != 0):\n",
    "                diaganol = score_matrix[i - 1, j - 1]\n",
    "                vertical = score_matrix[i - 1, j]\n",
    "                horizontal = row[j - 1]\n",
    "                codon1 = seq1[j - 1]\n",
    "                score = find_score(diaganol, horizontal, vertical, codon1, codon2)\n",
    "                direction = find_direction(diaganol, horizontal, vertical, codon1, codon2)\n",
    "                score_matrix[i, j] = score\n",
    "                direction_matrix[i, j] = direction\n",
    "\n",
    "                \n",
    "print(score_matrix)\n",
    "print(direction_matrix)"
   ]
  },
  {
   "cell_type": "code",
   "execution_count": null,
   "metadata": {},
   "outputs": [],
   "source": []
  },
  {
   "cell_type": "code",
   "execution_count": null,
   "metadata": {},
   "outputs": [],
   "source": []
  }
 ],
 "metadata": {
  "kernelspec": {
   "display_name": "Python 3",
   "language": "python",
   "name": "python3"
  },
  "language_info": {
   "codemirror_mode": {
    "name": "ipython",
    "version": 3
   },
   "file_extension": ".py",
   "mimetype": "text/x-python",
   "name": "python",
   "nbconvert_exporter": "python",
   "pygments_lexer": "ipython3",
   "version": "3.6.4"
  }
 },
 "nbformat": 4,
 "nbformat_minor": 2
}
