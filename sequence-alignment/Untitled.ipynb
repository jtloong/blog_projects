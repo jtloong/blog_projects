{
 "cells": [
  {
   "cell_type": "code",
   "execution_count": 7,
   "metadata": {},
   "outputs": [
    {
     "name": "stdout",
     "output_type": "stream",
     "text": [
      "--- 0.0009377002716064453 seconds ---\n"
     ]
    }
   ],
   "source": [
    "import numpy as np\n",
    "import time\n",
    "start_time = time.time()\n",
    "\n",
    "seq1 = ['A', 'C', 'T', 'C', 'G']\n",
    "seq2 = ['A', 'C', 'A', 'G', 'T', 'A', 'G']\n",
    "\n",
    "def initialize(matrix_type, len_seq1, len_seq2):\n",
    "    if matrix_type == 0:\n",
    "        matrix = np.zeros((len_seq2 + 1, len_seq1 + 1))\n",
    "        #First row\n",
    "        for i, cell in enumerate(matrix[0]):\n",
    "            if i != 0:\n",
    "                matrix[0, i] = cell + (-1 * i)\n",
    "        #First column\n",
    "        for i, cell in enumerate(matrix[:,0]):\n",
    "            if i != 0:\n",
    "                matrix[i, 0] = cell + (-1 * i)\n",
    "        matrix[1:,1:] = np.nan\n",
    "        return matrix\n",
    "    else:\n",
    "        matrix = np.chararray((len_seq2 + 1, len_seq1 + 1), itemsize=2, unicode=True)\n",
    "        matrix[:,:] = 0\n",
    "        for i, cell in enumerate(matrix[0]):\n",
    "            if i != 0:\n",
    "                matrix[0, i] = str(np.float(cell) + (-1 * i))\n",
    "        #First column\n",
    "        for i, cell in enumerate(matrix[:,0]):\n",
    "            if i != 0:\n",
    "                matrix[i, 0] = np.float(cell) + (-1 * i)\n",
    "        return matrix\n",
    "    \n",
    "def find_score(diagonol, left, top, codon_1, codon_2):\n",
    "    result = []\n",
    "    \n",
    "    def find_d_score(diagonol, codon_1, codon_2):\n",
    "        return diagonol + 1 if codon_1 == codon_2 else diagonol + 0\n",
    "    find_h_score = lambda left: left + -1\n",
    "    find_v_score = lambda top: top + -1\n",
    "    \n",
    "    d_score = find_d_score(diagonol, codon_1, codon_2)\n",
    "    h_score = find_h_score(left)\n",
    "    v_score = find_v_score(top)\n",
    "\n",
    "    score = max(d_score, h_score, v_score)\n",
    "    result.append(score)\n",
    "    if score == d_score:\n",
    "        result.append('↖')\n",
    "    elif score == h_score:\n",
    "        result.append('←')\n",
    "    else:\n",
    "        result.append('↑')\n",
    "    \n",
    "    return result\n",
    "\n",
    "score_matrix = initialize(0, len(seq1), len(seq2))\n",
    "direction_matrix = initialize(1, len(seq1), len(seq2))\n",
    "for i, row in enumerate(score_matrix):\n",
    "    if i != 0:\n",
    "        codon2 = seq2[i - 1]\n",
    "        for j, value in enumerate(row):\n",
    "            if (j != 0):\n",
    "                diaganol = score_matrix[i - 1, j - 1]\n",
    "                vertical = score_matrix[i - 1, j]\n",
    "                horizontal = row[j - 1]\n",
    "                codon1 = seq1[j - 1]\n",
    "                result = find_score(diaganol, horizontal, vertical, codon1, codon2)\n",
    "                score_matrix[i, j] = result[0]\n",
    "                direction_matrix[i, j] = result[1]\n",
    "\n",
    "print(\"--- %s seconds ---\" % (time.time() - start_time))"
   ]
  },
  {
   "cell_type": "code",
   "execution_count": null,
   "metadata": {},
   "outputs": [],
   "source": [
    "0.001692056655883789 seconds\n",
    "0.0010440349578857422 seconds\n",
    "0.0009164810180664062 seconds"
   ]
  }
 ],
 "metadata": {
  "kernelspec": {
   "display_name": "Python 3",
   "language": "python",
   "name": "python3"
  },
  "language_info": {
   "codemirror_mode": {
    "name": "ipython",
    "version": 3
   },
   "file_extension": ".py",
   "mimetype": "text/x-python",
   "name": "python",
   "nbconvert_exporter": "python",
   "pygments_lexer": "ipython3",
   "version": "3.6.4"
  }
 },
 "nbformat": 4,
 "nbformat_minor": 2
}
