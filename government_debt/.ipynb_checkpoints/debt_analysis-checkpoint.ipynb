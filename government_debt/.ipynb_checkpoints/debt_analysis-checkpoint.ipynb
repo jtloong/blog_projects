{
 "cells": [
  {
   "cell_type": "code",
   "execution_count": 9,
   "metadata": {},
   "outputs": [],
   "source": [
    "import pandas as pd\n",
    "import numpy as np\n"
   ]
  },
  {
   "cell_type": "code",
   "execution_count": 10,
   "metadata": {},
   "outputs": [],
   "source": [
    "import plotly.plotly as py\n",
    "from plotly.graph_objs import *"
   ]
  },
  {
   "cell_type": "code",
   "execution_count": 33,
   "metadata": {},
   "outputs": [],
   "source": [
    "data = pd.read_csv('debt-gdp.csv')"
   ]
  },
  {
   "cell_type": "code",
   "execution_count": 34,
   "metadata": {},
   "outputs": [
    {
     "data": {
      "text/html": [
       "<div>\n",
       "<style>\n",
       "    .dataframe thead tr:only-child th {\n",
       "        text-align: right;\n",
       "    }\n",
       "\n",
       "    .dataframe thead th {\n",
       "        text-align: left;\n",
       "    }\n",
       "\n",
       "    .dataframe tbody tr th {\n",
       "        vertical-align: top;\n",
       "    }\n",
       "</style>\n",
       "<table border=\"1\" class=\"dataframe\">\n",
       "  <thead>\n",
       "    <tr style=\"text-align: right;\">\n",
       "      <th></th>\n",
       "      <th>Year</th>\n",
       "      <th>Quebec</th>\n",
       "      <th>Ontario</th>\n",
       "      <th>Alberta</th>\n",
       "      <th>BC</th>\n",
       "      <th>Canada</th>\n",
       "    </tr>\n",
       "  </thead>\n",
       "  <tbody>\n",
       "    <tr>\n",
       "      <th>0</th>\n",
       "      <td>1990</td>\n",
       "      <td>0.177799</td>\n",
       "      <td>0.101413</td>\n",
       "      <td>0.040904</td>\n",
       "      <td>0.052491</td>\n",
       "      <td>0.413888</td>\n",
       "    </tr>\n",
       "    <tr>\n",
       "      <th>1</th>\n",
       "      <td>1991</td>\n",
       "      <td>0.203569</td>\n",
       "      <td>0.134797</td>\n",
       "      <td>0.056805</td>\n",
       "      <td>0.073392</td>\n",
       "      <td>0.458011</td>\n",
       "    </tr>\n",
       "    <tr>\n",
       "      <th>2</th>\n",
       "      <td>1992</td>\n",
       "      <td>0.227270</td>\n",
       "      <td>0.166513</td>\n",
       "      <td>0.084047</td>\n",
       "      <td>0.085038</td>\n",
       "      <td>0.496256</td>\n",
       "    </tr>\n",
       "    <tr>\n",
       "      <th>3</th>\n",
       "      <td>1993</td>\n",
       "      <td>0.245554</td>\n",
       "      <td>0.214133</td>\n",
       "      <td>0.088242</td>\n",
       "      <td>0.088761</td>\n",
       "      <td>0.524858</td>\n",
       "    </tr>\n",
       "    <tr>\n",
       "      <th>4</th>\n",
       "      <td>1994</td>\n",
       "      <td>0.261250</td>\n",
       "      <td>0.228611</td>\n",
       "      <td>0.079412</td>\n",
       "      <td>0.089868</td>\n",
       "      <td>0.538124</td>\n",
       "    </tr>\n",
       "  </tbody>\n",
       "</table>\n",
       "</div>"
      ],
      "text/plain": [
       "   Year    Quebec   Ontario   Alberta        BC    Canada\n",
       "0  1990  0.177799  0.101413  0.040904  0.052491  0.413888\n",
       "1  1991  0.203569  0.134797  0.056805  0.073392  0.458011\n",
       "2  1992  0.227270  0.166513  0.084047  0.085038  0.496256\n",
       "3  1993  0.245554  0.214133  0.088242  0.088761  0.524858\n",
       "4  1994  0.261250  0.228611  0.079412  0.089868  0.538124"
      ]
     },
     "execution_count": 34,
     "metadata": {},
     "output_type": "execute_result"
    }
   ],
   "source": [
    "data['Year'] = data['Year'].apply(lambda x: x[:4])\n",
    "data.head()\n"
   ]
  },
  {
   "cell_type": "code",
   "execution_count": 35,
   "metadata": {},
   "outputs": [
    {
     "name": "stdout",
     "output_type": "stream",
     "text": [
      "High five! You successfully sent some data to your account on plotly. View your plot in your browser at https://plot.ly/~joshua-t-loong/0 or inside your plot.ly account where it is named 'basic-line'\n"
     ]
    },
    {
     "data": {
      "text/html": [
       "<iframe id=\"igraph\" scrolling=\"no\" style=\"border:none;\" seamless=\"seamless\" src=\"https://plot.ly/~joshua-t-loong/0.embed\" height=\"525px\" width=\"100%\"></iframe>"
      ],
      "text/plain": [
       "<plotly.tools.PlotlyDisplay object>"
      ]
     },
     "execution_count": 35,
     "metadata": {},
     "output_type": "execute_result"
    }
   ],
   "source": [
    "trace0 = Scatter(\n",
    "    name = \"Quebec\",\n",
    "    y= data.Quebec,\n",
    "    x= data.Year\n",
    ")\n",
    "trace1 = Scatter(\n",
    "    name = \"Ontario\",\n",
    "    y=data.Ontario,\n",
    "    x=data.Year\n",
    ")\n",
    "\n",
    "trace2 = Scatter(\n",
    "    name = \"Canada\",\n",
    "    y=data.Canada,\n",
    "    x=data.Year\n",
    ")\n",
    "\n",
    "# trace2 = Scatter(\n",
    "#     na\n",
    "#     y=[24, 26, 16, 21, 21, 18, 16, 30, 45, 33, 35],\n",
    "#     x=[2007, 2008, 2009, 2010, 2011, 2012, 2013, 2014, 2015, 2016, 2017]\n",
    "# )\n",
    "\n",
    "data = Data([trace0, trace1, trace2])\n",
    "\n",
    "layout = dict(title= 'Debt-to-GDP Ratios Over Time')\n",
    "\n",
    "fig = dict(data=data, layout=layout)\n",
    "\n",
    "py.iplot(fig, filename = 'basic-line')"
   ]
  },
  {
   "cell_type": "code",
   "execution_count": null,
   "metadata": {},
   "outputs": [],
   "source": []
  }
 ],
 "metadata": {
  "kernelspec": {
   "display_name": "Python 3",
   "language": "python",
   "name": "python3"
  },
  "language_info": {
   "codemirror_mode": {
    "name": "ipython",
    "version": 3
   },
   "file_extension": ".py",
   "mimetype": "text/x-python",
   "name": "python",
   "nbconvert_exporter": "python",
   "pygments_lexer": "ipython3",
   "version": "3.6.4"
  }
 },
 "nbformat": 4,
 "nbformat_minor": 2
}
