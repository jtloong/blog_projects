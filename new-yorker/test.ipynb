{
 "cells": [
  {
   "cell_type": "code",
   "execution_count": 52,
   "metadata": {},
   "outputs": [],
   "source": [
    "from bs4 import BeautifulSoup\n",
    "import requests\n",
    "import pandas as pd"
   ]
  },
  {
   "cell_type": "code",
   "execution_count": 62,
   "metadata": {},
   "outputs": [],
   "source": [
    "data = pd.DataFrame(columns=['date_issued', 'author', 'title', 'description', 'link'])"
   ]
  },
  {
   "cell_type": "code",
   "execution_count": 4,
   "metadata": {},
   "outputs": [],
   "source": [
    "result = requests.get(\"https://www.newyorker.com/magazine/fiction\")\n",
    "c = result.content\n",
    "soup = BeautifulSoup(c)"
   ]
  },
  {
   "cell_type": "code",
   "execution_count": 9,
   "metadata": {},
   "outputs": [],
   "source": [
    "root = soup.find(id='app-root')"
   ]
  },
  {
   "cell_type": "code",
   "execution_count": 22,
   "metadata": {},
   "outputs": [
    {
     "name": "stdout",
     "output_type": "stream",
     "text": [
      "1327\n"
     ]
    }
   ],
   "source": [
    "archive_end = root.find_all(\"li\", {\"class\": \"Pagination__listItem___1hFiK\"})[-1].text\n",
    "archive_end = archive_end.replace(',', '')\n",
    "print(archive_end)"
   ]
  },
  {
   "cell_type": "code",
   "execution_count": 43,
   "metadata": {},
   "outputs": [
    {
     "name": "stdout",
     "output_type": "stream",
     "text": [
      "<li class=\"River__riverItem___3huWr\"><div class=\"River__riverItemContent___2hXMG\"><div class=\"River__issueDate___2DPuc \"><a class=\"Link__link___3dWao \" href=\"/magazine/2019/03/04\" title=\"Published in March 4, 2019\"><time class=\"IssueDate__issueDate___2e_OC\" title=\"Published in March 4, 2019\">March 4, 2019 Issue</time></a></div><a class=\"Link__link___3dWao \" href=\"/magazine/2019/03/04/the-starlet-apartments\"><h4 class=\"River__hed___re6RP\">“The Starlet Apartments”</h4></a><div class=\"River__riverItemBody___347sz\"><a class=\"Link__link___3dWao \" href=\"/magazine/2019/03/04/the-starlet-apartments\"><div class=\"Image__image___1PhYl\" role=\"button\" tabindex=\"0\"><picture class=\"component-responsive-image\"><source media=\"(min-width: 1280px)\" srcset=\"https://media.newyorker.com/photos/5c6dd49bcc63602cef2e40ea/4:3/w_280,c_limit/190304_r33804.jpg, https://media.newyorker.com/photos/5c6dd49bcc63602cef2e40ea/4:3/w_560,c_limit/190304_r33804.jpg 2x\"/><source media=\"(min-width: 1024px)\" srcset=\"https://media.newyorker.com/photos/5c6dd49bcc63602cef2e40ea/4:3/w_223,c_limit/190304_r33804.jpg, https://media.newyorker.com/photos/5c6dd49bcc63602cef2e40ea/4:3/w_446,c_limit/190304_r33804.jpg 2x\"/><source media=\"(min-width: 768px)\" srcset=\"https://media.newyorker.com/photos/5c6dd49bcc63602cef2e40ea/4:3/w_172,c_limit/190304_r33804.jpg, https://media.newyorker.com/photos/5c6dd49bcc63602cef2e40ea/4:3/w_344,c_limit/190304_r33804.jpg 2x\"/><source srcset=\"https://media.newyorker.com/photos/5c6dd49bcc63602cef2e40ea/4:3/w_116,c_limit/190304_r33804.jpg, https://media.newyorker.com/photos/5c6dd49bcc63602cef2e40ea/4:3/w_232,c_limit/190304_r33804.jpg 2x\"/><img alt=\"\" src=\"https://media.newyorker.com/photos/5c6dd49bcc63602cef2e40ea/4:3/w_116,c_limit/190304_r33804.jpg\" title=\"\"/></picture></div></a><h5 class=\"River__dek___CayIg\">“The day’s party was under way. Or the previous night’s had never ended.”</h5><div class=\"River__byline___3AbqA \"><p class=\"Byline__by___37lv8\">By <a class=\"Link__link___3dWao \" href=\"/contributors/jonathan-lethem\" rel=\"author\" title=\"Jonathan Lethem\">Jonathan Lethem</a></p></div></div></div></li>\n"
     ]
    }
   ],
   "source": [
    "text = root.find_all(\"li\", {\"class\": \"River__riverItem___3huWr\"})[0]\n",
    "print(text)"
   ]
  },
  {
   "cell_type": "code",
   "execution_count": 83,
   "metadata": {},
   "outputs": [
    {
     "name": "stdout",
     "output_type": "stream",
     "text": [
      "<a class=\"Link__link___3dWao \" href=\"/magazine/2019/03/04\" title=\"Published in March 4, 2019\"><time class=\"IssueDate__issueDate___2e_OC\" title=\"Published in March 4, 2019\">March 4, 2019 Issue</time></a>\n",
      "<a class=\"Link__link___3dWao \" href=\"/magazine/2019/03/04/the-starlet-apartments\"><h4 class=\"River__hed___re6RP\">“The Starlet Apartments”</h4></a>\n",
      "<a class=\"Link__link___3dWao \" href=\"/magazine/2019/03/04/the-starlet-apartments\"><div class=\"Image__image___1PhYl\" role=\"button\" tabindex=\"0\"><picture class=\"component-responsive-image\"><source media=\"(min-width: 1280px)\" srcset=\"https://media.newyorker.com/photos/5c6dd49bcc63602cef2e40ea/4:3/w_280,c_limit/190304_r33804.jpg, https://media.newyorker.com/photos/5c6dd49bcc63602cef2e40ea/4:3/w_560,c_limit/190304_r33804.jpg 2x\"/><source media=\"(min-width: 1024px)\" srcset=\"https://media.newyorker.com/photos/5c6dd49bcc63602cef2e40ea/4:3/w_223,c_limit/190304_r33804.jpg, https://media.newyorker.com/photos/5c6dd49bcc63602cef2e40ea/4:3/w_446,c_limit/190304_r33804.jpg 2x\"/><source media=\"(min-width: 768px)\" srcset=\"https://media.newyorker.com/photos/5c6dd49bcc63602cef2e40ea/4:3/w_172,c_limit/190304_r33804.jpg, https://media.newyorker.com/photos/5c6dd49bcc63602cef2e40ea/4:3/w_344,c_limit/190304_r33804.jpg 2x\"/><source srcset=\"https://media.newyorker.com/photos/5c6dd49bcc63602cef2e40ea/4:3/w_116,c_limit/190304_r33804.jpg, https://media.newyorker.com/photos/5c6dd49bcc63602cef2e40ea/4:3/w_232,c_limit/190304_r33804.jpg 2x\"/><img alt=\"\" src=\"https://media.newyorker.com/photos/5c6dd49bcc63602cef2e40ea/4:3/w_116,c_limit/190304_r33804.jpg\" title=\"\"/></picture></div></a>\n",
      "<a class=\"Link__link___3dWao \" href=\"/contributors/jonathan-lethem\" rel=\"author\" title=\"Jonathan Lethem\">Jonathan Lethem</a>\n"
     ]
    }
   ],
   "source": [
    "for i, element in enumerate(text.find_all('a')):\n",
    "    print(element)"
   ]
  },
  {
   "cell_type": "code",
   "execution_count": null,
   "metadata": {},
   "outputs": [],
   "source": []
  },
  {
   "cell_type": "code",
   "execution_count": 44,
   "metadata": {},
   "outputs": [
    {
     "data": {
      "text/plain": [
       "'“The day’s party was under way. Or the previous night’s had never ended.”'"
      ]
     },
     "execution_count": 44,
     "metadata": {},
     "output_type": "execute_result"
    }
   ],
   "source": [
    "text.find('h5').text"
   ]
  },
  {
   "cell_type": "code",
   "execution_count": 70,
   "metadata": {},
   "outputs": [
    {
     "data": {
      "text/plain": [
       "'2019/03/04'"
      ]
     },
     "execution_count": 70,
     "metadata": {},
     "output_type": "execute_result"
    }
   ],
   "source": [
    "text.find('h4').parent['href'][10:20]"
   ]
  },
  {
   "cell_type": "code",
   "execution_count": 71,
   "metadata": {},
   "outputs": [],
   "source": [
    "\n",
    "issues = []\n",
    "authors = []\n",
    "titles = []\n",
    "descriptions = []\n",
    "links = []\n",
    "dates = []\n",
    "\n",
    "for piece in root.find_all(\"li\", {\"class\": \"River__riverItem___3huWr\"}):    \n",
    "    for i, element in enumerate(piece.find_all('a')):\n",
    "        if i == 0:\n",
    "            issues.append(element.text)\n",
    "        if i == 1:\n",
    "            titles.append(element.text)\n",
    "        if i == 3:\n",
    "            authors.append(element.text)\n",
    "    \n",
    "    descriptions.append(piece.find('h5').text)\n",
    "    links.append('https://newyorker.com' + piece.find('h4').parent['href'])\n",
    "    dates.append(piece.find('h4').parent['href'][10:20])"
   ]
  },
  {
   "cell_type": "code",
   "execution_count": 72,
   "metadata": {},
   "outputs": [],
   "source": [
    "data['date_issued'] = dates\n",
    "data['issue'] = issues\n",
    "data['author'] = authors \n",
    "data['title'] = titles \n",
    "data['description'] = descriptions\n",
    "data['link'] = links"
   ]
  },
  {
   "cell_type": "code",
   "execution_count": 73,
   "metadata": {},
   "outputs": [
    {
     "data": {
      "text/html": [
       "<div>\n",
       "<style scoped>\n",
       "    .dataframe tbody tr th:only-of-type {\n",
       "        vertical-align: middle;\n",
       "    }\n",
       "\n",
       "    .dataframe tbody tr th {\n",
       "        vertical-align: top;\n",
       "    }\n",
       "\n",
       "    .dataframe thead th {\n",
       "        text-align: right;\n",
       "    }\n",
       "</style>\n",
       "<table border=\"1\" class=\"dataframe\">\n",
       "  <thead>\n",
       "    <tr style=\"text-align: right;\">\n",
       "      <th></th>\n",
       "      <th>date_issued</th>\n",
       "      <th>author</th>\n",
       "      <th>title</th>\n",
       "      <th>description</th>\n",
       "      <th>link</th>\n",
       "      <th>issue</th>\n",
       "    </tr>\n",
       "  </thead>\n",
       "  <tbody>\n",
       "    <tr>\n",
       "      <th>0</th>\n",
       "      <td>2019/03/04</td>\n",
       "      <td>Jonathan Lethem</td>\n",
       "      <td>“The Starlet Apartments”</td>\n",
       "      <td>“The day’s party was under way. Or the previou...</td>\n",
       "      <td>https://newyorker.com/magazine/2019/03/04/the-...</td>\n",
       "      <td>March 4, 2019 Issue</td>\n",
       "    </tr>\n",
       "    <tr>\n",
       "      <th>1</th>\n",
       "      <td>2019/02/18</td>\n",
       "      <td>Leïla Slimani</td>\n",
       "      <td>“The Confession”</td>\n",
       "      <td>“I cannot say why, but I had the painful impre...</td>\n",
       "      <td>https://newyorker.com/magazine/2019/02/18/the-...</td>\n",
       "      <td>February 18 &amp; 25, 2019 Issue</td>\n",
       "    </tr>\n",
       "    <tr>\n",
       "      <th>2</th>\n",
       "      <td>2019/02/11</td>\n",
       "      <td>T. Coraghessan Boyle</td>\n",
       "      <td>“Asleep at the Wheel”</td>\n",
       "      <td>“She’s smiling as he comes up to the car, and ...</td>\n",
       "      <td>https://newyorker.com/magazine/2019/02/11/asle...</td>\n",
       "      <td>February 11, 2019 Issue</td>\n",
       "    </tr>\n",
       "    <tr>\n",
       "      <th>3</th>\n",
       "      <td>2019/02/04</td>\n",
       "      <td>Emma Cline</td>\n",
       "      <td>“What Can You Do with a General”</td>\n",
       "      <td>“How had it happened, the eventual neutering o...</td>\n",
       "      <td>https://newyorker.com/magazine/2019/02/04/what...</td>\n",
       "      <td>February 4, 2019 Issue</td>\n",
       "    </tr>\n",
       "    <tr>\n",
       "      <th>4</th>\n",
       "      <td>2019/01/28</td>\n",
       "      <td>Haruki Murakami</td>\n",
       "      <td>“Cream”</td>\n",
       "      <td>“ ‘There’s nothing worth getting in this world...</td>\n",
       "      <td>https://newyorker.com/magazine/2019/01/28/cream</td>\n",
       "      <td>January 28, 2019 Issue</td>\n",
       "    </tr>\n",
       "    <tr>\n",
       "      <th>5</th>\n",
       "      <td>2019/01/21</td>\n",
       "      <td>Salvatore Scibona</td>\n",
       "      <td>“Do Not Stop”</td>\n",
       "      <td>“He heard a whistle and saw his truck blow up ...</td>\n",
       "      <td>https://newyorker.com/magazine/2019/01/21/do-n...</td>\n",
       "      <td>January 21, 2019 Issue</td>\n",
       "    </tr>\n",
       "    <tr>\n",
       "      <th>6</th>\n",
       "      <td>2019/01/14</td>\n",
       "      <td>Amos Oz</td>\n",
       "      <td>“All Rivers”</td>\n",
       "      <td>“I’m tired of words. You strive to be accurate...</td>\n",
       "      <td>https://newyorker.com/magazine/2019/01/14/all-...</td>\n",
       "      <td>January 14, 2019 Issue</td>\n",
       "    </tr>\n",
       "    <tr>\n",
       "      <th>7</th>\n",
       "      <td>2019/01/07</td>\n",
       "      <td>Taymour Soomro</td>\n",
       "      <td>“Philosophy of the Foot”</td>\n",
       "      <td>“Listen to the foot,” the boy says. “The foot ...</td>\n",
       "      <td>https://newyorker.com/magazine/2019/01/07/phil...</td>\n",
       "      <td>January 7, 2019 Issue</td>\n",
       "    </tr>\n",
       "    <tr>\n",
       "      <th>8</th>\n",
       "      <td>2018/12/24</td>\n",
       "      <td>Mary Gaitskill</td>\n",
       "      <td>“Acceptance Journey”</td>\n",
       "      <td>“Somehow, somewhere inside her, love and tortu...</td>\n",
       "      <td>https://newyorker.com/magazine/2018/12/24/acce...</td>\n",
       "      <td>December 24 &amp; 31, 2018 Issue</td>\n",
       "    </tr>\n",
       "    <tr>\n",
       "      <th>9</th>\n",
       "      <td>2018/12/17</td>\n",
       "      <td>Linn Ullmann</td>\n",
       "      <td>“Time for the Eyes to Adjust”</td>\n",
       "      <td>“My father has four houses, two cars, five wiv...</td>\n",
       "      <td>https://newyorker.com/magazine/2018/12/17/time...</td>\n",
       "      <td>December 17, 2018 Issue</td>\n",
       "    </tr>\n",
       "  </tbody>\n",
       "</table>\n",
       "</div>"
      ],
      "text/plain": [
       "  date_issued                author                             title  \\\n",
       "0  2019/03/04       Jonathan Lethem          “The Starlet Apartments”   \n",
       "1  2019/02/18         Leïla Slimani                  “The Confession”   \n",
       "2  2019/02/11  T. Coraghessan Boyle             “Asleep at the Wheel”   \n",
       "3  2019/02/04            Emma Cline  “What Can You Do with a General”   \n",
       "4  2019/01/28       Haruki Murakami                           “Cream”   \n",
       "5  2019/01/21     Salvatore Scibona                     “Do Not Stop”   \n",
       "6  2019/01/14               Amos Oz                      “All Rivers”   \n",
       "7  2019/01/07        Taymour Soomro          “Philosophy of the Foot”   \n",
       "8  2018/12/24        Mary Gaitskill              “Acceptance Journey”   \n",
       "9  2018/12/17          Linn Ullmann     “Time for the Eyes to Adjust”   \n",
       "\n",
       "                                         description  \\\n",
       "0  “The day’s party was under way. Or the previou...   \n",
       "1  “I cannot say why, but I had the painful impre...   \n",
       "2  “She’s smiling as he comes up to the car, and ...   \n",
       "3  “How had it happened, the eventual neutering o...   \n",
       "4  “ ‘There’s nothing worth getting in this world...   \n",
       "5  “He heard a whistle and saw his truck blow up ...   \n",
       "6  “I’m tired of words. You strive to be accurate...   \n",
       "7  “Listen to the foot,” the boy says. “The foot ...   \n",
       "8  “Somehow, somewhere inside her, love and tortu...   \n",
       "9  “My father has four houses, two cars, five wiv...   \n",
       "\n",
       "                                                link  \\\n",
       "0  https://newyorker.com/magazine/2019/03/04/the-...   \n",
       "1  https://newyorker.com/magazine/2019/02/18/the-...   \n",
       "2  https://newyorker.com/magazine/2019/02/11/asle...   \n",
       "3  https://newyorker.com/magazine/2019/02/04/what...   \n",
       "4    https://newyorker.com/magazine/2019/01/28/cream   \n",
       "5  https://newyorker.com/magazine/2019/01/21/do-n...   \n",
       "6  https://newyorker.com/magazine/2019/01/14/all-...   \n",
       "7  https://newyorker.com/magazine/2019/01/07/phil...   \n",
       "8  https://newyorker.com/magazine/2018/12/24/acce...   \n",
       "9  https://newyorker.com/magazine/2018/12/17/time...   \n",
       "\n",
       "                          issue  \n",
       "0           March 4, 2019 Issue  \n",
       "1  February 18 & 25, 2019 Issue  \n",
       "2       February 11, 2019 Issue  \n",
       "3        February 4, 2019 Issue  \n",
       "4        January 28, 2019 Issue  \n",
       "5        January 21, 2019 Issue  \n",
       "6        January 14, 2019 Issue  \n",
       "7         January 7, 2019 Issue  \n",
       "8  December 24 & 31, 2018 Issue  \n",
       "9       December 17, 2018 Issue  "
      ]
     },
     "execution_count": 73,
     "metadata": {},
     "output_type": "execute_result"
    }
   ],
   "source": [
    "data"
   ]
  },
  {
   "cell_type": "code",
   "execution_count": 80,
   "metadata": {},
   "outputs": [],
   "source": [
    "pages = ['https://www.newyorker.com/magazine/fiction/page/' + str(i) for i in range(1, int(archive_end) + 1)]"
   ]
  },
  {
   "cell_type": "code",
   "execution_count": 81,
   "metadata": {},
   "outputs": [
    {
     "data": {
      "text/plain": [
       "'https://www.newyorker.com/magazine/fiction/page/1327'"
      ]
     },
     "execution_count": 81,
     "metadata": {},
     "output_type": "execute_result"
    }
   ],
   "source": [
    "pages[-1]"
   ]
  },
  {
   "cell_type": "code",
   "execution_count": null,
   "metadata": {},
   "outputs": [],
   "source": []
  }
 ],
 "metadata": {
  "kernelspec": {
   "display_name": "Python 3",
   "language": "python",
   "name": "python3"
  },
  "language_info": {
   "codemirror_mode": {
    "name": "ipython",
    "version": 3
   },
   "file_extension": ".py",
   "mimetype": "text/x-python",
   "name": "python",
   "nbconvert_exporter": "python",
   "pygments_lexer": "ipython3",
   "version": "3.7.0"
  }
 },
 "nbformat": 4,
 "nbformat_minor": 2
}
