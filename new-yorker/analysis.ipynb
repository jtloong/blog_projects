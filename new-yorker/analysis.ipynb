{
 "cells": [
  {
   "cell_type": "code",
   "execution_count": 14,
   "metadata": {},
   "outputs": [],
   "source": [
    "import pandas as pd\n",
    "from tabulate import tabulate"
   ]
  },
  {
   "cell_type": "code",
   "execution_count": 2,
   "metadata": {},
   "outputs": [],
   "source": [
    "run_1 = pd.read_csv('new-yorker-1.csv')\n",
    "run_2 = pd.read_csv('new-yorker-2.csv')"
   ]
  },
  {
   "cell_type": "code",
   "execution_count": 7,
   "metadata": {},
   "outputs": [],
   "source": [
    "data = run_1.append(run_2)"
   ]
  },
  {
   "cell_type": "code",
   "execution_count": 8,
   "metadata": {},
   "outputs": [],
   "source": [
    "counts = data[['author', 'link']].groupby(['author']).count()"
   ]
  },
  {
   "cell_type": "code",
   "execution_count": 20,
   "metadata": {},
   "outputs": [],
   "source": [
    "table = counts.sort_values(by=['link'], ascending=False).head(10)"
   ]
  },
  {
   "cell_type": "code",
   "execution_count": 21,
   "metadata": {},
   "outputs": [
    {
     "name": "stdout",
     "output_type": "stream",
     "text": [
      "<table>\n",
      "<thead>\n",
      "<tr><th>Author                </th><th style=\"text-align: right;\">  # of Stories</th></tr>\n",
      "</thead>\n",
      "<tbody>\n",
      "<tr><td>S. J. Perelman        </td><td style=\"text-align: right;\">           271</td></tr>\n",
      "<tr><td>James Thurber         </td><td style=\"text-align: right;\">           270</td></tr>\n",
      "<tr><td>John O'Hara           </td><td style=\"text-align: right;\">           226</td></tr>\n",
      "<tr><td>Frank Sullivan        </td><td style=\"text-align: right;\">           191</td></tr>\n",
      "<tr><td>W. E. Farbstein       </td><td style=\"text-align: right;\">           184</td></tr>\n",
      "<tr><td>E. B. White           </td><td style=\"text-align: right;\">           179</td></tr>\n",
      "<tr><td>John Updike           </td><td style=\"text-align: right;\">           169</td></tr>\n",
      "<tr><td>Sylvia Townsend Warner</td><td style=\"text-align: right;\">           152</td></tr>\n",
      "<tr><td>Arthur Kober          </td><td style=\"text-align: right;\">           151</td></tr>\n",
      "<tr><td>Wolcott Gibbs         </td><td style=\"text-align: right;\">           142</td></tr>\n",
      "</tbody>\n",
      "</table>\n"
     ]
    }
   ],
   "source": [
    "print(tabulate(table, ['Author', '# of Stories'], tablefmt=\"html\"))"
   ]
  },
  {
   "cell_type": "code",
   "execution_count": 12,
   "metadata": {},
   "outputs": [],
   "source": [
    "data.to_csv('new-yorker-full.csv', index=False)"
   ]
  },
  {
   "cell_type": "code",
   "execution_count": null,
   "metadata": {},
   "outputs": [],
   "source": []
  }
 ],
 "metadata": {
  "kernelspec": {
   "display_name": "Python 3",
   "language": "python",
   "name": "python3"
  },
  "language_info": {
   "codemirror_mode": {
    "name": "ipython",
    "version": 3
   },
   "file_extension": ".py",
   "mimetype": "text/x-python",
   "name": "python",
   "nbconvert_exporter": "python",
   "pygments_lexer": "ipython3",
   "version": "3.7.0"
  }
 },
 "nbformat": 4,
 "nbformat_minor": 2
}
