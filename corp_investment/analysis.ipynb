{
 "cells": [
  {
   "cell_type": "markdown",
   "metadata": {},
   "source": [
    "# Corporate Investment and Tax Rate Comaprison\n",
    "\n",
    "[This blog post](http://behindthenumbers.ca/2018/11/21/corporate-tax-cuts-enrich-shareholders-not-competitiveness/) by Behind the Numbers piqued my interest. The author only delved into machinery and equipment investment in comparison to corporate tax rates, but I felt that the generally declining manufacturing base in North America may have had an influence here. I wanted to also include intellectual property investment in the analysis as well. The result is this notebook.\n",
    "\n",
    "### Sources\n",
    "\n",
    "* [OECD Stat](https://stats.oecd.org/index.aspx?DataSetCode=TABLE_II1#) for the corporate tax rate data\n",
    "\n",
    "* [StatsCan](https://www150.statcan.gc.ca/t1/tbl1/en/cv.action?pid=3610010401) for the corporate investment data"
   ]
  },
  {
   "cell_type": "code",
   "execution_count": 1,
   "metadata": {},
   "outputs": [],
   "source": [
    "import pandas as pd\n",
    "import numpy as np\n",
    "import seaborn as sns\n",
    "import matplotlib.pyplot as plt\n",
    "% matplotlib inline"
   ]
  },
  {
   "cell_type": "code",
   "execution_count": 3,
   "metadata": {},
   "outputs": [
    {
     "data": {
      "text/html": [
       "<div>\n",
       "<style scoped>\n",
       "    .dataframe tbody tr th:only-of-type {\n",
       "        vertical-align: middle;\n",
       "    }\n",
       "\n",
       "    .dataframe tbody tr th {\n",
       "        vertical-align: top;\n",
       "    }\n",
       "\n",
       "    .dataframe thead th {\n",
       "        text-align: right;\n",
       "    }\n",
       "</style>\n",
       "<table border=\"1\" class=\"dataframe\">\n",
       "  <thead>\n",
       "    <tr style=\"text-align: right;\">\n",
       "      <th></th>\n",
       "      <th>Business gross fixed capital formation</th>\n",
       "      <th>Residential structures</th>\n",
       "      <th>Non-residential structures, machinery and equipment</th>\n",
       "      <th>Non-residential structures</th>\n",
       "      <th>Machinery and equipment</th>\n",
       "      <th>Intellectual property products</th>\n",
       "      <th>Year</th>\n",
       "      <th>Corporate Tax Rate</th>\n",
       "      <th>Machinery and Equipment Investment</th>\n",
       "      <th>Intellectual Property Investment</th>\n",
       "      <th>Building Investment</th>\n",
       "    </tr>\n",
       "    <tr>\n",
       "      <th>Reference period</th>\n",
       "      <th></th>\n",
       "      <th></th>\n",
       "      <th></th>\n",
       "      <th></th>\n",
       "      <th></th>\n",
       "      <th></th>\n",
       "      <th></th>\n",
       "      <th></th>\n",
       "      <th></th>\n",
       "      <th></th>\n",
       "      <th></th>\n",
       "    </tr>\n",
       "  </thead>\n",
       "  <tbody>\n",
       "    <tr>\n",
       "      <th>Q1 2000</th>\n",
       "      <td>212829</td>\n",
       "      <td>67962</td>\n",
       "      <td>117067</td>\n",
       "      <td>60702</td>\n",
       "      <td>56554</td>\n",
       "      <td>23888</td>\n",
       "      <td>2000</td>\n",
       "      <td>0.2912</td>\n",
       "      <td>0.265725</td>\n",
       "      <td>0.112240</td>\n",
       "      <td>0.285215</td>\n",
       "    </tr>\n",
       "    <tr>\n",
       "      <th>Q2 2000</th>\n",
       "      <td>214884</td>\n",
       "      <td>68434</td>\n",
       "      <td>116805</td>\n",
       "      <td>59038</td>\n",
       "      <td>57352</td>\n",
       "      <td>25820</td>\n",
       "      <td>2000</td>\n",
       "      <td>0.2912</td>\n",
       "      <td>0.266897</td>\n",
       "      <td>0.120158</td>\n",
       "      <td>0.274744</td>\n",
       "    </tr>\n",
       "    <tr>\n",
       "      <th>Q3 2000</th>\n",
       "      <td>217298</td>\n",
       "      <td>71454</td>\n",
       "      <td>115836</td>\n",
       "      <td>57418</td>\n",
       "      <td>57563</td>\n",
       "      <td>26906</td>\n",
       "      <td>2000</td>\n",
       "      <td>0.2912</td>\n",
       "      <td>0.264903</td>\n",
       "      <td>0.123821</td>\n",
       "      <td>0.264236</td>\n",
       "    </tr>\n",
       "    <tr>\n",
       "      <th>Q4 2000</th>\n",
       "      <td>217890</td>\n",
       "      <td>72796</td>\n",
       "      <td>114254</td>\n",
       "      <td>57940</td>\n",
       "      <td>55979</td>\n",
       "      <td>28230</td>\n",
       "      <td>2000</td>\n",
       "      <td>0.2912</td>\n",
       "      <td>0.256914</td>\n",
       "      <td>0.129561</td>\n",
       "      <td>0.265914</td>\n",
       "    </tr>\n",
       "    <tr>\n",
       "      <th>Q1 2001</th>\n",
       "      <td>222632</td>\n",
       "      <td>74929</td>\n",
       "      <td>115335</td>\n",
       "      <td>60415</td>\n",
       "      <td>55347</td>\n",
       "      <td>30010</td>\n",
       "      <td>2001</td>\n",
       "      <td>0.2812</td>\n",
       "      <td>0.248603</td>\n",
       "      <td>0.134796</td>\n",
       "      <td>0.271367</td>\n",
       "    </tr>\n",
       "  </tbody>\n",
       "</table>\n",
       "</div>"
      ],
      "text/plain": [
       "                  Business gross fixed capital formation  \\\n",
       "Reference period                                           \n",
       "Q1 2000                                           212829   \n",
       "Q2 2000                                           214884   \n",
       "Q3 2000                                           217298   \n",
       "Q4 2000                                           217890   \n",
       "Q1 2001                                           222632   \n",
       "\n",
       "                  Residential structures  \\\n",
       "Reference period                           \n",
       "Q1 2000                            67962   \n",
       "Q2 2000                            68434   \n",
       "Q3 2000                            71454   \n",
       "Q4 2000                            72796   \n",
       "Q1 2001                            74929   \n",
       "\n",
       "                  Non-residential structures, machinery and equipment  \\\n",
       "Reference period                                                        \n",
       "Q1 2000                                                      117067     \n",
       "Q2 2000                                                      116805     \n",
       "Q3 2000                                                      115836     \n",
       "Q4 2000                                                      114254     \n",
       "Q1 2001                                                      115335     \n",
       "\n",
       "                  Non-residential structures  Machinery and equipment  \\\n",
       "Reference period                                                        \n",
       "Q1 2000                                60702                    56554   \n",
       "Q2 2000                                59038                    57352   \n",
       "Q3 2000                                57418                    57563   \n",
       "Q4 2000                                57940                    55979   \n",
       "Q1 2001                                60415                    55347   \n",
       "\n",
       "                  Intellectual property products  Year  Corporate Tax Rate  \\\n",
       "Reference period                                                             \n",
       "Q1 2000                                    23888  2000              0.2912   \n",
       "Q2 2000                                    25820  2000              0.2912   \n",
       "Q3 2000                                    26906  2000              0.2912   \n",
       "Q4 2000                                    28230  2000              0.2912   \n",
       "Q1 2001                                    30010  2001              0.2812   \n",
       "\n",
       "                  Machinery and Equipment Investment  \\\n",
       "Reference period                                       \n",
       "Q1 2000                                     0.265725   \n",
       "Q2 2000                                     0.266897   \n",
       "Q3 2000                                     0.264903   \n",
       "Q4 2000                                     0.256914   \n",
       "Q1 2001                                     0.248603   \n",
       "\n",
       "                  Intellectual Property Investment  Building Investment  \n",
       "Reference period                                                         \n",
       "Q1 2000                                   0.112240             0.285215  \n",
       "Q2 2000                                   0.120158             0.274744  \n",
       "Q3 2000                                   0.123821             0.264236  \n",
       "Q4 2000                                   0.129561             0.265914  \n",
       "Q1 2001                                   0.134796             0.271367  "
      ]
     },
     "execution_count": 3,
     "metadata": {},
     "output_type": "execute_result"
    }
   ],
   "source": [
    "data = pd.read_csv('data.csv', index_col=0)\n",
    "data.head()"
   ]
  },
  {
   "cell_type": "markdown",
   "metadata": {},
   "source": [
    "## Analysis"
   ]
  },
  {
   "cell_type": "code",
   "execution_count": 24,
   "metadata": {},
   "outputs": [
    {
     "name": "stdout",
     "output_type": "stream",
     "text": [
      "me:  (0.5880321087128951, 3.613210815410358e-08)\n",
      "ip:  (0.8691005715055155, 1.0455618970120164e-23)\n",
      "b:  (-0.7326720920671402, 1.173039039407077e-13)\n",
      "----\n",
      "me:  [3.54]\n",
      "ip:  [1.64605439]\n",
      "b:  [4.16280466]\n"
     ]
    }
   ],
   "source": [
    "from scipy import stats\n",
    "print('me: ', stats.pearsonr(np.array(data['Corporate Tax Rate']), np.array(data['Machinery and Equipment Investment'])))\n",
    "print('ip: ', stats.pearsonr(np.array(data['Corporate Tax Rate']), np.array(data['Intellectual Property Investment'])))\n",
    "print('b: ', stats.pearsonr(np.array(data['Corporate Tax Rate']), np.array(data['Building Investment'])))\n",
    "\n",
    "print('----')\n",
    "\n",
    "print('me: ', np.correlate(np.array(data['Corporate Tax Rate']), np.array(data['Machinery and Equipment Investment'])))\n",
    "print('ip: ', np.correlate(np.array(data['Corporate Tax Rate']), np.array(data['Intellectual Property Investment'])))\n",
    "print('b: ', np.correlate(np.array(data['Corporate Tax Rate']), np.array(data['Building Investment'])))"
   ]
  },
  {
   "cell_type": "code",
   "execution_count": 4,
   "metadata": {},
   "outputs": [
    {
     "data": {
      "text/plain": [
       "array([0.06834756, 0.13671581, 0.20291405, 0.26840772, 0.33189993,\n",
       "       0.39463199, 0.45511765, 0.51446746, 0.57295674, 0.63049491,\n",
       "       0.68912332, 0.74557806, 0.79875333, 0.85260891, 0.90684139,\n",
       "       0.96087973, 1.00967669, 1.05846609, 1.1088431 , 1.1583653 ,\n",
       "       1.20903779, 1.26028172, 1.31161765, 1.36386618, 1.41579068,\n",
       "       1.4678517 , 1.52040558, 1.57342468, 1.63106156, 1.68482037,\n",
       "       1.73891694, 1.79246449, 1.84033219, 1.88679934, 1.93585237,\n",
       "       1.98435707, 2.03160148, 2.07920549, 2.13099158, 2.18485871,\n",
       "       2.23431686, 2.28462927, 2.33564245, 2.38540326, 2.43109561,\n",
       "       2.47660894, 2.52230186, 2.56868421, 2.61131472, 2.65316371,\n",
       "       2.69462048, 2.73461649, 2.77200354, 2.80973618, 2.84558874,\n",
       "       2.88069983, 2.91532851, 2.95072872, 2.98593848, 3.0206673 ,\n",
       "       3.05415442, 3.086944  , 3.11997648, 3.15444712, 3.18794346,\n",
       "       3.21993312, 3.25243788, 3.29129612, 3.32963219, 3.36869702,\n",
       "       3.40980681, 3.45288563, 3.4964385 , 3.54      , 3.47053302,\n",
       "       3.40072627, 3.3319413 , 3.26399965, 3.19788653, 3.1314212 ,\n",
       "       3.06623462, 3.00188964, 2.94025255, 2.8787095 , 2.81697286,\n",
       "       2.7563679 , 2.69994909, 2.64308904, 2.58618125, 2.52949554,\n",
       "       2.4781418 , 2.42706031, 2.37548409, 2.32465674, 2.27306048,\n",
       "       2.22121509, 2.1695744 , 2.11776681, 2.06591897, 2.01364374,\n",
       "       1.96125388, 1.90870621, 1.85352027, 1.80011596, 1.7465335 ,\n",
       "       1.69339711, 1.64678849, 1.60062198, 1.55326733, 1.50636266,\n",
       "       1.45967102, 1.41247619, 1.36319954, 1.31298473, 1.2666852 ,\n",
       "       1.21974039, 1.1722467 , 1.12551503, 1.08267848, 1.03998582,\n",
       "       0.99701368, 0.95377336, 0.9145449 , 0.875816  , 0.8370406 ,\n",
       "       0.79917709, 0.76246984, 0.72561207, 0.68955408, 0.65394606,\n",
       "       0.61849448, 0.58268543, 0.54685281, 0.5114701 , 0.47651545,\n",
       "       0.44210031, 0.40753304, 0.37236737, 0.33773859, 0.30395973,\n",
       "       0.26978831, 0.23248679, 0.19545647, 0.15816601, 0.11962891,\n",
       "       0.07989338, 0.03985876])"
      ]
     },
     "execution_count": 4,
     "metadata": {},
     "output_type": "execute_result"
    }
   ],
   "source": [
    "np.correlate(np.array(data['Corporate Tax Rate']), np.array(data['Machinery and Equipment Investment']), 'full')"
   ]
  },
  {
   "cell_type": "code",
   "execution_count": 7,
   "metadata": {},
   "outputs": [
    {
     "ename": "AttributeError",
     "evalue": "module 'statsmodels.tsa' has no attribute 'adfuller'",
     "output_type": "error",
     "traceback": [
      "\u001b[0;31m---------------------------------------------------------------------------\u001b[0m",
      "\u001b[0;31mAttributeError\u001b[0m                            Traceback (most recent call last)",
      "\u001b[0;32m<ipython-input-7-2726a92f1df0>\u001b[0m in \u001b[0;36m<module>\u001b[0;34m()\u001b[0m\n\u001b[1;32m      1\u001b[0m \u001b[0;32mimport\u001b[0m \u001b[0mstatsmodels\u001b[0m \u001b[0;32mas\u001b[0m \u001b[0msm\u001b[0m\u001b[0;34m\u001b[0m\u001b[0m\n\u001b[1;32m      2\u001b[0m \u001b[0;34m\u001b[0m\u001b[0m\n\u001b[0;32m----> 3\u001b[0;31m \u001b[0msm\u001b[0m\u001b[0;34m.\u001b[0m\u001b[0mtsa\u001b[0m\u001b[0;34m.\u001b[0m\u001b[0madfuller\u001b[0m\u001b[0;34m(\u001b[0m\u001b[0mnp\u001b[0m\u001b[0;34m.\u001b[0m\u001b[0marray\u001b[0m\u001b[0;34m(\u001b[0m\u001b[0mdata\u001b[0m\u001b[0;34m[\u001b[0m\u001b[0;34m'Corporate Tax Rate'\u001b[0m\u001b[0;34m]\u001b[0m\u001b[0;34m)\u001b[0m\u001b[0;34m)\u001b[0m\u001b[0;34m\u001b[0m\u001b[0m\n\u001b[0m",
      "\u001b[0;31mAttributeError\u001b[0m: module 'statsmodels.tsa' has no attribute 'adfuller'"
     ]
    }
   ],
   "source": [
    "import statsmodels as sm\n",
    "\n",
    "sm.tsa"
   ]
  },
  {
   "cell_type": "code",
   "execution_count": null,
   "metadata": {},
   "outputs": [],
   "source": []
  }
 ],
 "metadata": {
  "kernelspec": {
   "display_name": "Python 3",
   "language": "python",
   "name": "python3"
  },
  "language_info": {
   "codemirror_mode": {
    "name": "ipython",
    "version": 3
   },
   "file_extension": ".py",
   "mimetype": "text/x-python",
   "name": "python",
   "nbconvert_exporter": "python",
   "pygments_lexer": "ipython3",
   "version": "3.6.4"
  }
 },
 "nbformat": 4,
 "nbformat_minor": 2
}
