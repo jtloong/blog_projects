{
 "cells": [
  {
   "cell_type": "code",
   "execution_count": 1,
   "metadata": {},
   "outputs": [],
   "source": [
    "import pandas as pd\n",
    "import numpy as np\n",
    "from gensim import corpora, models\n",
    "import gensim, multiprocessing, time"
   ]
  },
  {
   "cell_type": "code",
   "execution_count": 3,
   "metadata": {},
   "outputs": [],
   "source": [
    "lda = gensim.models.ldamodel.LdaModel.load(\"lda.model\")"
   ]
  },
  {
   "cell_type": "code",
   "execution_count": 6,
   "metadata": {},
   "outputs": [
    {
     "name": "stdout",
     "output_type": "stream",
     "text": [
      "[(0, '0.019*\"s\" + 0.016*\"t\" + 0.016*\"like\" + 0.016*\"m\" + 0.014*\"get\" + 0.012*\"got\" + 0.007*\"nigga\" + 0.007*\"ain\" + 0.006*\"don\" + 0.006*\"know\" + 0.006*\"fuck\" + 0.006*\"yeah\" + 0.006*\"ya\" + 0.006*\"man\" + 0.005*\"just\" + 0.005*\"girl\" + 0.005*\"go\" + 0.005*\"now\" + 0.005*\"shit\" + 0.005*\"caus\" + 0.005*\"can\" + 0.005*\"back\" + 0.004*\"make\" + 0.004*\"la\" + 0.004*\"em\" + 0.004*\"come\" + 0.004*\"money\" + 0.004*\"let\" + 0.004*\"see\" + 0.003*\"bitch\" + 0.003*\"boy\" + 0.003*\"wanna\" + 0.003*\"yo\" + 0.003*\"babi\" + 0.003*\"say\" + 0.003*\"want\" + 0.003*\"hey\" + 0.003*\"na\" + 0.003*\"rock\" + 0.003*\"one\" + 0.003*\"put\" + 0.003*\"right\" + 0.003*\"big\" + 0.003*\"gotta\" + 0.003*\"hit\" + 0.002*\"take\" + 0.002*\"keep\" + 0.002*\"da\" + 0.002*\"choru\" + 0.002*\"gonna\" + 0.002*\"oh\" + 0.002*\"littl\" + 0.002*\"look\" + 0.002*\"play\" + 0.002*\"call\" + 0.002*\"ass\" + 0.002*\"give\" + 0.002*\"roll\" + 0.002*\"tell\" + 0.002*\"bout\" + 0.002*\"good\" + 0.002*\"im\" + 0.002*\"uh\" + 0.002*\"ll\" + 0.002*\"talk\" + 0.002*\"real\" + 0.002*\"y\" + 0.002*\"d\" + 0.002*\"ride\" + 0.002*\"hot\" + 0.002*\"said\" + 0.002*\"new\" + 0.002*\"o\" + 0.002*\"stop\" + 0.002*\"two\" + 0.002*\"ah\" + 0.002*\"around\" + 0.002*\"street\" + 0.002*\"beat\" + 0.002*\"show\" + 0.002*\"wit\" + 0.002*\"game\" + 0.002*\"head\" + 0.002*\"c\" + 0.002*\"time\" + 0.002*\"way\" + 0.002*\"vers\" + 0.001*\"well\" + 0.001*\"think\" + 0.001*\"work\" + 0.001*\"parti\" + 0.001*\"everybodi\" + 0.001*\"bad\" + 0.001*\"n\" + 0.001*\"kid\" + 0.001*\"even\" + 0.001*\"realli\" + 0.001*\"drop\" + 0.001*\"better\" + 0.001*\"g\"'), (1, '0.027*\"s\" + 0.026*\"t\" + 0.016*\"love\" + 0.015*\"can\" + 0.014*\"m\" + 0.012*\"know\" + 0.012*\"don\" + 0.012*\"re\" + 0.011*\"just\" + 0.010*\"ll\" + 0.009*\"oh\" + 0.009*\"time\" + 0.008*\"now\" + 0.008*\"go\" + 0.008*\"one\" + 0.008*\"ve\" + 0.007*\"never\" + 0.007*\"like\" + 0.007*\"come\" + 0.007*\"will\" + 0.007*\"want\" + 0.007*\"see\" + 0.007*\"feel\" + 0.006*\"way\" + 0.006*\"let\" + 0.006*\"say\" + 0.006*\"take\" + 0.006*\"make\" + 0.005*\"day\" + 0.005*\"away\" + 0.005*\"heart\" + 0.005*\"babi\" + 0.005*\"life\" + 0.005*\"get\" + 0.004*\"thing\" + 0.004*\"need\" + 0.004*\"back\" + 0.004*\"got\" + 0.004*\"night\" + 0.004*\"caus\" + 0.004*\"world\" + 0.004*\"look\" + 0.004*\"eye\" + 0.004*\"think\" + 0.004*\"tell\" + 0.004*\"live\" + 0.004*\"gonna\" + 0.004*\"right\" + 0.003*\"give\" + 0.003*\"tri\" + 0.003*\"d\" + 0.003*\"dream\" + 0.003*\"won\" + 0.003*\"yeah\" + 0.003*\"mind\" + 0.003*\"find\" + 0.003*\"still\" + 0.003*\"everi\" + 0.003*\"long\" + 0.003*\"fall\" + 0.003*\"keep\" + 0.003*\"alway\" + 0.003*\"hold\" + 0.003*\"us\" + 0.003*\"ever\" + 0.003*\"good\" + 0.003*\"light\" + 0.003*\"noth\" + 0.003*\"well\" + 0.003*\"wait\" + 0.003*\"turn\" + 0.003*\"around\" + 0.003*\"leav\" + 0.002*\"littl\" + 0.002*\"said\" + 0.002*\"hand\" + 0.002*\"home\" + 0.002*\"walk\" + 0.002*\"everyth\" + 0.002*\"call\" + 0.002*\"run\" + 0.002*\"gone\" + 0.002*\"end\" + 0.002*\"believ\" + 0.002*\"hear\" + 0.002*\"someth\" + 0.002*\"lie\" + 0.002*\"cri\" + 0.002*\"wanna\" + 0.002*\"die\" + 0.002*\"alon\" + 0.002*\"much\" + 0.002*\"word\" + 0.002*\"face\" + 0.002*\"insid\" + 0.002*\"chang\" + 0.002*\"girl\" + 0.002*\"left\" + 0.002*\"stay\" + 0.002*\"place\"')]\n"
     ]
    }
   ],
   "source": [
    "print(lda.print_topics(num_topics=2, num_words=100))"
   ]
  },
  {
   "cell_type": "code",
   "execution_count": 7,
   "metadata": {},
   "outputs": [],
   "source": [
    "words = lda.print_topics(num_topics=2, num_words=100)"
   ]
  },
  {
   "cell_type": "code",
   "execution_count": 18,
   "metadata": {},
   "outputs": [],
   "source": [
    "rap = words[0][1]"
   ]
  },
  {
   "cell_type": "code",
   "execution_count": 21,
   "metadata": {},
   "outputs": [],
   "source": [
    "others = words[1][1]"
   ]
  },
  {
   "cell_type": "code",
   "execution_count": 39,
   "metadata": {},
   "outputs": [],
   "source": [
    "def extract_words(words):\n",
    "    count = 0\n",
    "    list_var = []\n",
    "    for index in range(len(words)):\n",
    "        if words[index] == '\"':\n",
    "            next_index = words.find('\"', index+1)\n",
    "            if count % 2 == 0:\n",
    "                list_var.append(words[index+1:next_index])\n",
    "            count += 1\n",
    "    return list_var"
   ]
  },
  {
   "cell_type": "code",
   "execution_count": 40,
   "metadata": {},
   "outputs": [],
   "source": [
    "rap_words = extract_words(rap)"
   ]
  },
  {
   "cell_type": "code",
   "execution_count": 42,
   "metadata": {},
   "outputs": [],
   "source": [
    "other_words = extract_words(others)"
   ]
  },
  {
   "cell_type": "code",
   "execution_count": 44,
   "metadata": {},
   "outputs": [
    {
     "name": "stdout",
     "output_type": "stream",
     "text": [
      "['s', 't', 'like', 'm', 'get', 'got', 'nigga', 'ain', 'don', 'know', 'fuck', 'yeah', 'ya', 'man', 'just', 'girl', 'go', 'now', 'shit', 'caus', 'can', 'back', 'make', 'la', 'em', 'come', 'money', 'let', 'see', 'bitch', 'boy', 'wanna', 'yo', 'babi', 'say', 'want', 'hey', 'na', 'rock', 'one', 'put', 'right', 'big', 'gotta', 'hit', 'take', 'keep', 'da', 'choru', 'gonna', 'oh', 'littl', 'look', 'play', 'call', 'ass', 'give', 'roll', 'tell', 'bout', 'good', 'im', 'uh', 'll', 'talk', 'real', 'y', 'd', 'ride', 'hot', 'said', 'new', 'o', 'stop', 'two', 'ah', 'around', 'street', 'beat', 'show', 'wit', 'game', 'head', 'c', 'time', 'way', 'vers', 'well', 'think', 'work', 'parti', 'everybodi', 'bad', 'n', 'kid', 'even', 'realli', 'drop', 'better', 'g']\n"
     ]
    }
   ],
   "source": [
    "print(rap_words)"
   ]
  },
  {
   "cell_type": "code",
   "execution_count": 45,
   "metadata": {},
   "outputs": [
    {
     "name": "stdout",
     "output_type": "stream",
     "text": [
      "['s', 't', 'love', 'can', 'm', 'know', 'don', 're', 'just', 'll', 'oh', 'time', 'now', 'go', 'one', 've', 'never', 'like', 'come', 'will', 'want', 'see', 'feel', 'way', 'let', 'say', 'take', 'make', 'day', 'away', 'heart', 'babi', 'life', 'get', 'thing', 'need', 'back', 'got', 'night', 'caus', 'world', 'look', 'eye', 'think', 'tell', 'live', 'gonna', 'right', 'give', 'tri', 'd', 'dream', 'won', 'yeah', 'mind', 'find', 'still', 'everi', 'long', 'fall', 'keep', 'alway', 'hold', 'us', 'ever', 'good', 'light', 'noth', 'well', 'wait', 'turn', 'around', 'leav', 'littl', 'said', 'hand', 'home', 'walk', 'everyth', 'call', 'run', 'gone', 'end', 'believ', 'hear', 'someth', 'lie', 'cri', 'wanna', 'die', 'alon', 'much', 'word', 'face', 'insid', 'chang', 'girl', 'left', 'stay', 'place']\n"
     ]
    }
   ],
   "source": [
    "print(other_words)"
   ]
  },
  {
   "cell_type": "code",
   "execution_count": null,
   "metadata": {},
   "outputs": [],
   "source": []
  }
 ],
 "metadata": {
  "kernelspec": {
   "display_name": "Python 3",
   "language": "python",
   "name": "python3"
  },
  "language_info": {
   "codemirror_mode": {
    "name": "ipython",
    "version": 3
   },
   "file_extension": ".py",
   "mimetype": "text/x-python",
   "name": "python",
   "nbconvert_exporter": "python",
   "pygments_lexer": "ipython3",
   "version": "3.6.4"
  }
 },
 "nbformat": 4,
 "nbformat_minor": 2
}
