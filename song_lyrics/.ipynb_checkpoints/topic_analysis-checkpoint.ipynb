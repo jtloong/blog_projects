{
 "cells": [
  {
   "cell_type": "code",
   "execution_count": 20,
   "metadata": {},
   "outputs": [],
   "source": [
    "import pandas as pd\n",
    "import numpy as np\n",
    "import ipython_bell"
   ]
  },
  {
   "cell_type": "code",
   "execution_count": 21,
   "metadata": {},
   "outputs": [],
   "source": [
    "data = pd.read_csv('cleaned_data.csv', index_col=0)"
   ]
  },
  {
   "cell_type": "code",
   "execution_count": 22,
   "metadata": {},
   "outputs": [
    {
     "data": {
      "text/html": [
       "<div>\n",
       "<style>\n",
       "    .dataframe thead tr:only-child th {\n",
       "        text-align: right;\n",
       "    }\n",
       "\n",
       "    .dataframe thead th {\n",
       "        text-align: left;\n",
       "    }\n",
       "\n",
       "    .dataframe tbody tr th {\n",
       "        vertical-align: top;\n",
       "    }\n",
       "</style>\n",
       "<table border=\"1\" class=\"dataframe\">\n",
       "  <thead>\n",
       "    <tr style=\"text-align: right;\">\n",
       "      <th></th>\n",
       "      <th>song</th>\n",
       "      <th>year</th>\n",
       "      <th>artist</th>\n",
       "      <th>genre</th>\n",
       "      <th>lyrics</th>\n",
       "      <th>song_length</th>\n",
       "      <th>language</th>\n",
       "    </tr>\n",
       "    <tr>\n",
       "      <th>index</th>\n",
       "      <th></th>\n",
       "      <th></th>\n",
       "      <th></th>\n",
       "      <th></th>\n",
       "      <th></th>\n",
       "      <th></th>\n",
       "      <th></th>\n",
       "    </tr>\n",
       "  </thead>\n",
       "  <tbody>\n",
       "    <tr>\n",
       "      <th>0</th>\n",
       "      <td>ego-remix</td>\n",
       "      <td>2009</td>\n",
       "      <td>beyonce-knowles</td>\n",
       "      <td>Pop</td>\n",
       "      <td>Oh baby, how you doing?\\nYou know I'm gonna cu...</td>\n",
       "      <td>1961.0</td>\n",
       "      <td>en</td>\n",
       "    </tr>\n",
       "    <tr>\n",
       "      <th>1</th>\n",
       "      <td>then-tell-me</td>\n",
       "      <td>2009</td>\n",
       "      <td>beyonce-knowles</td>\n",
       "      <td>Pop</td>\n",
       "      <td>playin' everything so easy,\\nit's like you see...</td>\n",
       "      <td>1270.0</td>\n",
       "      <td>en</td>\n",
       "    </tr>\n",
       "    <tr>\n",
       "      <th>2</th>\n",
       "      <td>honesty</td>\n",
       "      <td>2009</td>\n",
       "      <td>beyonce-knowles</td>\n",
       "      <td>Pop</td>\n",
       "      <td>If you search\\nFor tenderness\\nIt isn't hard t...</td>\n",
       "      <td>827.0</td>\n",
       "      <td>en</td>\n",
       "    </tr>\n",
       "    <tr>\n",
       "      <th>3</th>\n",
       "      <td>you-are-my-rock</td>\n",
       "      <td>2009</td>\n",
       "      <td>beyonce-knowles</td>\n",
       "      <td>Pop</td>\n",
       "      <td>Oh oh oh I, oh oh oh I\\n[Verse 1:]\\nIf I wrote...</td>\n",
       "      <td>2344.0</td>\n",
       "      <td>en</td>\n",
       "    </tr>\n",
       "    <tr>\n",
       "      <th>4</th>\n",
       "      <td>black-culture</td>\n",
       "      <td>2009</td>\n",
       "      <td>beyonce-knowles</td>\n",
       "      <td>Pop</td>\n",
       "      <td>Party the people, the people the party it's po...</td>\n",
       "      <td>1540.0</td>\n",
       "      <td>en</td>\n",
       "    </tr>\n",
       "  </tbody>\n",
       "</table>\n",
       "</div>"
      ],
      "text/plain": [
       "                  song  year           artist genre  \\\n",
       "index                                                 \n",
       "0            ego-remix  2009  beyonce-knowles   Pop   \n",
       "1         then-tell-me  2009  beyonce-knowles   Pop   \n",
       "2              honesty  2009  beyonce-knowles   Pop   \n",
       "3      you-are-my-rock  2009  beyonce-knowles   Pop   \n",
       "4        black-culture  2009  beyonce-knowles   Pop   \n",
       "\n",
       "                                                  lyrics  song_length language  \n",
       "index                                                                           \n",
       "0      Oh baby, how you doing?\\nYou know I'm gonna cu...       1961.0       en  \n",
       "1      playin' everything so easy,\\nit's like you see...       1270.0       en  \n",
       "2      If you search\\nFor tenderness\\nIt isn't hard t...        827.0       en  \n",
       "3      Oh oh oh I, oh oh oh I\\n[Verse 1:]\\nIf I wrote...       2344.0       en  \n",
       "4      Party the people, the people the party it's po...       1540.0       en  "
      ]
     },
     "execution_count": 22,
     "metadata": {},
     "output_type": "execute_result"
    }
   ],
   "source": [
    "data.head()"
   ]
  },
  {
   "cell_type": "code",
   "execution_count": 23,
   "metadata": {},
   "outputs": [],
   "source": [
    "lyrics_documents = list(data['lyrics'].dropna())"
   ]
  },
  {
   "cell_type": "code",
   "execution_count": 24,
   "metadata": {},
   "outputs": [
    {
     "data": {
      "text/plain": [
       "216631"
      ]
     },
     "execution_count": 24,
     "metadata": {},
     "output_type": "execute_result"
    }
   ],
   "source": [
    "len(lyrics_documents)"
   ]
  },
  {
   "cell_type": "markdown",
   "metadata": {},
   "source": [
    "# Topic Analysis - Train Model"
   ]
  },
  {
   "cell_type": "code",
   "execution_count": 25,
   "metadata": {},
   "outputs": [],
   "source": [
    "from nltk.tokenize import RegexpTokenizer\n",
    "from stop_words import get_stop_words\n",
    "from nltk.stem.porter import PorterStemmer\n",
    "from gensim import corpora, models\n",
    "import gensim"
   ]
  },
  {
   "cell_type": "code",
   "execution_count": 26,
   "metadata": {},
   "outputs": [],
   "source": [
    "tokenizer = RegexpTokenizer(r'\\w+')"
   ]
  },
  {
   "cell_type": "code",
   "execution_count": 27,
   "metadata": {},
   "outputs": [],
   "source": [
    "en_stop = get_stop_words('en')"
   ]
  },
  {
   "cell_type": "code",
   "execution_count": 28,
   "metadata": {},
   "outputs": [],
   "source": [
    "p_stemmer = PorterStemmer()"
   ]
  },
  {
   "cell_type": "code",
   "execution_count": 29,
   "metadata": {},
   "outputs": [],
   "source": [
    "texts = []"
   ]
  },
  {
   "cell_type": "code",
   "execution_count": 30,
   "metadata": {},
   "outputs": [],
   "source": [
    "%%bell\n",
    "for i in lyrics_documents:\n",
    "    \n",
    "    # clean and tokenize document string\n",
    "    raw = i.lower()\n",
    "    tokens = tokenizer.tokenize(raw)\n",
    "\n",
    "    # remove stop words from tokens\n",
    "    stopped_tokens = [i for i in tokens if not i in en_stop]\n",
    "    \n",
    "    # stem tokens\n",
    "    stemmed_tokens = [p_stemmer.stem(i) for i in stopped_tokens]\n",
    "    \n",
    "    # add tokens to list\n",
    "    texts.append(stemmed_tokens)"
   ]
  },
  {
   "cell_type": "code",
   "execution_count": 31,
   "metadata": {},
   "outputs": [],
   "source": [
    "%%bell\n",
    "dictionary = corpora.Dictionary(texts)"
   ]
  },
  {
   "cell_type": "code",
   "execution_count": 32,
   "metadata": {},
   "outputs": [],
   "source": [
    "corpus = [dictionary.doc2bow(text) for text in texts]"
   ]
  },
  {
   "cell_type": "code",
   "execution_count": 33,
   "metadata": {},
   "outputs": [],
   "source": [
    "ldamodel = gensim.models.ldamodel.LdaModel(corpus, num_topics=2, id2word = dictionary, passes=20)"
   ]
  },
  {
   "cell_type": "code",
   "execution_count": 34,
   "metadata": {},
   "outputs": [
    {
     "name": "stdout",
     "output_type": "stream",
     "text": [
      "[(0, '0.019*\"s\" + 0.016*\"t\" + 0.016*\"like\" + 0.016*\"m\"'), (1, '0.027*\"s\" + 0.026*\"t\" + 0.016*\"love\" + 0.015*\"can\"')]\n"
     ]
    }
   ],
   "source": [
    "print(ldamodel.print_topics(num_topics=2, num_words=4))"
   ]
  },
  {
   "cell_type": "code",
   "execution_count": 35,
   "metadata": {},
   "outputs": [
    {
     "name": "stdout",
     "output_type": "stream",
     "text": [
      "[(0, '0.019*\"s\" + 0.016*\"t\" + 0.016*\"like\" + 0.016*\"m\" + 0.014*\"get\" + 0.012*\"got\" + 0.007*\"nigga\" + 0.007*\"ain\" + 0.006*\"don\" + 0.006*\"know\" + 0.006*\"fuck\" + 0.006*\"yeah\" + 0.006*\"ya\" + 0.006*\"man\" + 0.005*\"just\" + 0.005*\"girl\" + 0.005*\"go\" + 0.005*\"now\" + 0.005*\"shit\" + 0.005*\"caus\" + 0.005*\"can\" + 0.005*\"back\" + 0.004*\"make\" + 0.004*\"la\" + 0.004*\"em\" + 0.004*\"come\" + 0.004*\"money\" + 0.004*\"let\" + 0.004*\"see\" + 0.003*\"bitch\"'), (1, '0.027*\"s\" + 0.026*\"t\" + 0.016*\"love\" + 0.015*\"can\" + 0.014*\"m\" + 0.012*\"know\" + 0.012*\"don\" + 0.012*\"re\" + 0.011*\"just\" + 0.010*\"ll\" + 0.009*\"oh\" + 0.009*\"time\" + 0.008*\"now\" + 0.008*\"go\" + 0.008*\"one\" + 0.008*\"ve\" + 0.007*\"never\" + 0.007*\"like\" + 0.007*\"come\" + 0.007*\"will\" + 0.007*\"want\" + 0.007*\"see\" + 0.007*\"feel\" + 0.006*\"way\" + 0.006*\"let\" + 0.006*\"say\" + 0.006*\"take\" + 0.006*\"make\" + 0.005*\"day\" + 0.005*\"away\"')]\n"
     ]
    }
   ],
   "source": [
    "print(ldamodel.print_topics(num_topics=2, num_words=30))"
   ]
  },
  {
   "cell_type": "code",
   "execution_count": 36,
   "metadata": {},
   "outputs": [],
   "source": [
    "ldamodel.save('lda.model')"
   ]
  },
  {
   "cell_type": "code",
   "execution_count": 43,
   "metadata": {},
   "outputs": [
    {
     "name": "stdout",
     "output_type": "stream",
     "text": [
      "[(1, 0.99516976)]\n"
     ]
    }
   ],
   "source": [
    "print(ldamodel[corpus[6]])"
   ]
  },
  {
   "cell_type": "markdown",
   "metadata": {},
   "source": [
    "# Topic Analysis - Calculate Probabilities"
   ]
  },
  {
   "cell_type": "code",
   "execution_count": 60,
   "metadata": {},
   "outputs": [],
   "source": [
    "analysis_data = data.dropna(subset=['lyrics'])"
   ]
  },
  {
   "cell_type": "code",
   "execution_count": 45,
   "metadata": {},
   "outputs": [
    {
     "name": "stdout",
     "output_type": "stream",
     "text": [
      "216631\n",
      "216631\n"
     ]
    }
   ],
   "source": [
    "print(len(analysis_data['lyrics']))\n",
    "print(len(texts))"
   ]
  },
  {
   "cell_type": "code",
   "execution_count": 55,
   "metadata": {},
   "outputs": [],
   "source": [
    "topic_1 = []\n",
    "topic_2 = []"
   ]
  },
  {
   "cell_type": "code",
   "execution_count": 56,
   "metadata": {},
   "outputs": [],
   "source": [
    "for index, i in enumerate(corpus):\n",
    "    probability = ldamodel[i]\n",
    "    for terms in probability:\n",
    "        if terms[0] == 0:\n",
    "            topic_1.append(terms[1])\n",
    "        else:\n",
    "            topic_2.append(terms[1])\n",
    "            \n",
    "        if len(probability) == 1:\n",
    "            if terms[0] == 0:\n",
    "                topic_2.append(0)\n",
    "            else:\n",
    "                topic_1.append(0)"
   ]
  },
  {
   "cell_type": "code",
   "execution_count": 58,
   "metadata": {},
   "outputs": [
    {
     "data": {
      "text/plain": [
       "216631"
      ]
     },
     "execution_count": 58,
     "metadata": {},
     "output_type": "execute_result"
    }
   ],
   "source": [
    "len(topic_1)\n",
    "len(topic_2)"
   ]
  },
  {
   "cell_type": "code",
   "execution_count": 61,
   "metadata": {},
   "outputs": [],
   "source": [
    "analysis_data['topic_1'] = topic_1\n",
    "analysis_data['topic_2'] = topic_2"
   ]
  },
  {
   "cell_type": "code",
   "execution_count": 62,
   "metadata": {},
   "outputs": [
    {
     "data": {
      "text/html": [
       "<div>\n",
       "<style>\n",
       "    .dataframe thead tr:only-child th {\n",
       "        text-align: right;\n",
       "    }\n",
       "\n",
       "    .dataframe thead th {\n",
       "        text-align: left;\n",
       "    }\n",
       "\n",
       "    .dataframe tbody tr th {\n",
       "        vertical-align: top;\n",
       "    }\n",
       "</style>\n",
       "<table border=\"1\" class=\"dataframe\">\n",
       "  <thead>\n",
       "    <tr style=\"text-align: right;\">\n",
       "      <th></th>\n",
       "      <th>song</th>\n",
       "      <th>year</th>\n",
       "      <th>artist</th>\n",
       "      <th>genre</th>\n",
       "      <th>lyrics</th>\n",
       "      <th>song_length</th>\n",
       "      <th>language</th>\n",
       "      <th>topic_1</th>\n",
       "      <th>topic_2</th>\n",
       "    </tr>\n",
       "    <tr>\n",
       "      <th>index</th>\n",
       "      <th></th>\n",
       "      <th></th>\n",
       "      <th></th>\n",
       "      <th></th>\n",
       "      <th></th>\n",
       "      <th></th>\n",
       "      <th></th>\n",
       "      <th></th>\n",
       "      <th></th>\n",
       "    </tr>\n",
       "  </thead>\n",
       "  <tbody>\n",
       "    <tr>\n",
       "      <th>0</th>\n",
       "      <td>ego-remix</td>\n",
       "      <td>2009</td>\n",
       "      <td>beyonce-knowles</td>\n",
       "      <td>Pop</td>\n",
       "      <td>Oh baby, how you doing?\\nYou know I'm gonna cu...</td>\n",
       "      <td>1961.0</td>\n",
       "      <td>en</td>\n",
       "      <td>0.252225</td>\n",
       "      <td>0.747775</td>\n",
       "    </tr>\n",
       "    <tr>\n",
       "      <th>1</th>\n",
       "      <td>then-tell-me</td>\n",
       "      <td>2009</td>\n",
       "      <td>beyonce-knowles</td>\n",
       "      <td>Pop</td>\n",
       "      <td>playin' everything so easy,\\nit's like you see...</td>\n",
       "      <td>1270.0</td>\n",
       "      <td>en</td>\n",
       "      <td>0.010709</td>\n",
       "      <td>0.989291</td>\n",
       "    </tr>\n",
       "    <tr>\n",
       "      <th>2</th>\n",
       "      <td>honesty</td>\n",
       "      <td>2009</td>\n",
       "      <td>beyonce-knowles</td>\n",
       "      <td>Pop</td>\n",
       "      <td>If you search\\nFor tenderness\\nIt isn't hard t...</td>\n",
       "      <td>827.0</td>\n",
       "      <td>en</td>\n",
       "      <td>0.000000</td>\n",
       "      <td>0.993693</td>\n",
       "    </tr>\n",
       "    <tr>\n",
       "      <th>3</th>\n",
       "      <td>you-are-my-rock</td>\n",
       "      <td>2009</td>\n",
       "      <td>beyonce-knowles</td>\n",
       "      <td>Pop</td>\n",
       "      <td>Oh oh oh I, oh oh oh I\\n[Verse 1:]\\nIf I wrote...</td>\n",
       "      <td>2344.0</td>\n",
       "      <td>en</td>\n",
       "      <td>0.370812</td>\n",
       "      <td>0.629188</td>\n",
       "    </tr>\n",
       "    <tr>\n",
       "      <th>4</th>\n",
       "      <td>black-culture</td>\n",
       "      <td>2009</td>\n",
       "      <td>beyonce-knowles</td>\n",
       "      <td>Pop</td>\n",
       "      <td>Party the people, the people the party it's po...</td>\n",
       "      <td>1540.0</td>\n",
       "      <td>en</td>\n",
       "      <td>0.552502</td>\n",
       "      <td>0.447498</td>\n",
       "    </tr>\n",
       "  </tbody>\n",
       "</table>\n",
       "</div>"
      ],
      "text/plain": [
       "                  song  year           artist genre  \\\n",
       "index                                                 \n",
       "0            ego-remix  2009  beyonce-knowles   Pop   \n",
       "1         then-tell-me  2009  beyonce-knowles   Pop   \n",
       "2              honesty  2009  beyonce-knowles   Pop   \n",
       "3      you-are-my-rock  2009  beyonce-knowles   Pop   \n",
       "4        black-culture  2009  beyonce-knowles   Pop   \n",
       "\n",
       "                                                  lyrics  song_length  \\\n",
       "index                                                                   \n",
       "0      Oh baby, how you doing?\\nYou know I'm gonna cu...       1961.0   \n",
       "1      playin' everything so easy,\\nit's like you see...       1270.0   \n",
       "2      If you search\\nFor tenderness\\nIt isn't hard t...        827.0   \n",
       "3      Oh oh oh I, oh oh oh I\\n[Verse 1:]\\nIf I wrote...       2344.0   \n",
       "4      Party the people, the people the party it's po...       1540.0   \n",
       "\n",
       "      language   topic_1   topic_2  \n",
       "index                               \n",
       "0           en  0.252225  0.747775  \n",
       "1           en  0.010709  0.989291  \n",
       "2           en  0.000000  0.993693  \n",
       "3           en  0.370812  0.629188  \n",
       "4           en  0.552502  0.447498  "
      ]
     },
     "execution_count": 62,
     "metadata": {},
     "output_type": "execute_result"
    }
   ],
   "source": [
    "analysis_data.head()"
   ]
  },
  {
   "cell_type": "code",
   "execution_count": 63,
   "metadata": {},
   "outputs": [
    {
     "data": {
      "text/plain": [
       "['song',\n",
       " 'year',\n",
       " 'artist',\n",
       " 'genre',\n",
       " 'lyrics',\n",
       " 'song_length',\n",
       " 'language',\n",
       " 'topic_1',\n",
       " 'topic_2']"
      ]
     },
     "execution_count": 63,
     "metadata": {},
     "output_type": "execute_result"
    }
   ],
   "source": [
    "list(analysis_data)"
   ]
  },
  {
   "cell_type": "code",
   "execution_count": 64,
   "metadata": {},
   "outputs": [],
   "source": [
    "analysis_data = analysis_data.melt(id_vars=['song', 'year', 'artist', 'genre', 'lyrics', 'song_length','language'], var_name='probability')"
   ]
  },
  {
   "cell_type": "code",
   "execution_count": 66,
   "metadata": {},
   "outputs": [
    {
     "data": {
      "text/html": [
       "<div>\n",
       "<style>\n",
       "    .dataframe thead tr:only-child th {\n",
       "        text-align: right;\n",
       "    }\n",
       "\n",
       "    .dataframe thead th {\n",
       "        text-align: left;\n",
       "    }\n",
       "\n",
       "    .dataframe tbody tr th {\n",
       "        vertical-align: top;\n",
       "    }\n",
       "</style>\n",
       "<table border=\"1\" class=\"dataframe\">\n",
       "  <thead>\n",
       "    <tr style=\"text-align: right;\">\n",
       "      <th></th>\n",
       "      <th>song</th>\n",
       "      <th>year</th>\n",
       "      <th>artist</th>\n",
       "      <th>genre</th>\n",
       "      <th>lyrics</th>\n",
       "      <th>song_length</th>\n",
       "      <th>language</th>\n",
       "      <th>probability</th>\n",
       "      <th>value</th>\n",
       "    </tr>\n",
       "  </thead>\n",
       "  <tbody>\n",
       "    <tr>\n",
       "      <th>433257</th>\n",
       "      <td>who-am-i-drinking-tonight</td>\n",
       "      <td>2012</td>\n",
       "      <td>edens-edge</td>\n",
       "      <td>Country</td>\n",
       "      <td>I gotta say\\nBoy, after only just a couple of ...</td>\n",
       "      <td>1630.0</td>\n",
       "      <td>en</td>\n",
       "      <td>topic_2</td>\n",
       "      <td>0.267442</td>\n",
       "    </tr>\n",
       "    <tr>\n",
       "      <th>433258</th>\n",
       "      <td>liar</td>\n",
       "      <td>2012</td>\n",
       "      <td>edens-edge</td>\n",
       "      <td>Country</td>\n",
       "      <td>I helped you find her diamond ring\\nYou made m...</td>\n",
       "      <td>1014.0</td>\n",
       "      <td>en</td>\n",
       "      <td>topic_2</td>\n",
       "      <td>0.977958</td>\n",
       "    </tr>\n",
       "    <tr>\n",
       "      <th>433259</th>\n",
       "      <td>last-supper</td>\n",
       "      <td>2012</td>\n",
       "      <td>edens-edge</td>\n",
       "      <td>Country</td>\n",
       "      <td>Look at the couple in the corner booth\\nLooks ...</td>\n",
       "      <td>1183.0</td>\n",
       "      <td>en</td>\n",
       "      <td>topic_2</td>\n",
       "      <td>0.848520</td>\n",
       "    </tr>\n",
       "    <tr>\n",
       "      <th>433260</th>\n",
       "      <td>christ-alone-live-in-studio</td>\n",
       "      <td>2012</td>\n",
       "      <td>edens-edge</td>\n",
       "      <td>Country</td>\n",
       "      <td>When I fly off this mortal earth\\nAnd I'm meas...</td>\n",
       "      <td>852.0</td>\n",
       "      <td>en</td>\n",
       "      <td>topic_2</td>\n",
       "      <td>0.978934</td>\n",
       "    </tr>\n",
       "    <tr>\n",
       "      <th>433261</th>\n",
       "      <td>amen</td>\n",
       "      <td>2012</td>\n",
       "      <td>edens-edge</td>\n",
       "      <td>Country</td>\n",
       "      <td>I heard from a friend of a friend of a friend ...</td>\n",
       "      <td>1557.0</td>\n",
       "      <td>en</td>\n",
       "      <td>topic_2</td>\n",
       "      <td>0.431276</td>\n",
       "    </tr>\n",
       "  </tbody>\n",
       "</table>\n",
       "</div>"
      ],
      "text/plain": [
       "                               song  year      artist    genre  \\\n",
       "433257    who-am-i-drinking-tonight  2012  edens-edge  Country   \n",
       "433258                         liar  2012  edens-edge  Country   \n",
       "433259                  last-supper  2012  edens-edge  Country   \n",
       "433260  christ-alone-live-in-studio  2012  edens-edge  Country   \n",
       "433261                         amen  2012  edens-edge  Country   \n",
       "\n",
       "                                                   lyrics  song_length  \\\n",
       "433257  I gotta say\\nBoy, after only just a couple of ...       1630.0   \n",
       "433258  I helped you find her diamond ring\\nYou made m...       1014.0   \n",
       "433259  Look at the couple in the corner booth\\nLooks ...       1183.0   \n",
       "433260  When I fly off this mortal earth\\nAnd I'm meas...        852.0   \n",
       "433261  I heard from a friend of a friend of a friend ...       1557.0   \n",
       "\n",
       "       language probability     value  \n",
       "433257       en     topic_2  0.267442  \n",
       "433258       en     topic_2  0.977958  \n",
       "433259       en     topic_2  0.848520  \n",
       "433260       en     topic_2  0.978934  \n",
       "433261       en     topic_2  0.431276  "
      ]
     },
     "execution_count": 66,
     "metadata": {},
     "output_type": "execute_result"
    }
   ],
   "source": [
    "analysis_data.tail()"
   ]
  },
  {
   "cell_type": "markdown",
   "metadata": {},
   "source": [
    "# Visualize Probability Data by Genre"
   ]
  },
  {
   "cell_type": "code",
   "execution_count": 67,
   "metadata": {},
   "outputs": [],
   "source": [
    "import matplotlib.pyplot as plt\n",
    "import seaborn as sns\n",
    "% matplotlib inline"
   ]
  },
  {
   "cell_type": "code",
   "execution_count": 79,
   "metadata": {},
   "outputs": [
    {
     "data": {
      "text/plain": [
       "<matplotlib.axes._subplots.AxesSubplot at 0x7f01d99da240>"
      ]
     },
     "execution_count": 79,
     "metadata": {},
     "output_type": "execute_result"
    },
    {
     "data": {
      "image/png": "[encoded data removed]",
      "text/plain": [
       "<matplotlib.figure.Figure at 0x7f01d99da630>"
      ]
     },
     "metadata": {},
     "output_type": "display_data"
    }
   ],
   "source": [
    "plt.figure(figsize=(10,45))\n",
    "plt.title('Boxplot of Computed Topic Probabilities by Genre')\n",
    "sns.boxplot(y='genre', x='value', hue='probability', data=analysis_data)"
   ]
  },
  {
   "cell_type": "code",
   "execution_count": null,
   "metadata": {},
   "outputs": [],
   "source": []
  },
  {
   "cell_type": "code",
   "execution_count": null,
   "metadata": {},
   "outputs": [],
   "source": []
  },
  {
   "cell_type": "code",
   "execution_count": null,
   "metadata": {},
   "outputs": [],
   "source": []
  },
  {
   "cell_type": "code",
   "execution_count": null,
   "metadata": {},
   "outputs": [],
   "source": []
  }
 ],
 "metadata": {
  "kernelspec": {
   "display_name": "Python 3",
   "language": "python",
   "name": "python3"
  },
  "language_info": {
   "codemirror_mode": {
    "name": "ipython",
    "version": 3
   },
   "file_extension": ".py",
   "mimetype": "text/x-python",
   "name": "python",
   "nbconvert_exporter": "python",
   "pygments_lexer": "ipython3",
   "version": "3.6.4"
  }
 },
 "nbformat": 4,
 "nbformat_minor": 2
}
