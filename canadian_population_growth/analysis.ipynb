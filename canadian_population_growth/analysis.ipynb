{
 "cells": [
  {
   "cell_type": "code",
   "execution_count": 1,
   "metadata": {},
   "outputs": [],
   "source": [
    "import pandas as pd"
   ]
  },
  {
   "cell_type": "code",
   "execution_count": 2,
   "metadata": {},
   "outputs": [],
   "source": [
    "data = pd.read_csv('2016-statscan-population.CSV')"
   ]
  },
  {
   "cell_type": "code",
   "execution_count": 3,
   "metadata": {},
   "outputs": [
    {
     "data": {
      "text/html": [
       "<div>\n",
       "<style>\n",
       "    .dataframe thead tr:only-child th {\n",
       "        text-align: right;\n",
       "    }\n",
       "\n",
       "    .dataframe thead th {\n",
       "        text-align: left;\n",
       "    }\n",
       "\n",
       "    .dataframe tbody tr th {\n",
       "        vertical-align: top;\n",
       "    }\n",
       "</style>\n",
       "<table border=\"1\" class=\"dataframe\">\n",
       "  <thead>\n",
       "    <tr style=\"text-align: right;\">\n",
       "      <th></th>\n",
       "      <th>Geographic code</th>\n",
       "      <th>Geographic name</th>\n",
       "      <th>CD type</th>\n",
       "      <th>Province or territory</th>\n",
       "      <th>Incompletely enumerated Indian reserves and Indian settlements, 2016</th>\n",
       "      <th>Population, 2016</th>\n",
       "      <th>Population, 2011</th>\n",
       "      <th>2011 adjusted population flag</th>\n",
       "      <th>Population, % change</th>\n",
       "      <th>Total private dwellings, 2016</th>\n",
       "      <th>Private dwellings occupied by usual residents, 2016</th>\n",
       "      <th>Land area in square kilometres, 2016</th>\n",
       "      <th>Population density per square kilometre, 2016</th>\n",
       "      <th>National population rank, 2016</th>\n",
       "      <th>Provincial/territorial population rank, 2016</th>\n",
       "    </tr>\n",
       "  </thead>\n",
       "  <tbody>\n",
       "    <tr>\n",
       "      <th>0</th>\n",
       "      <td>3520</td>\n",
       "      <td>Toronto</td>\n",
       "      <td>Census division (CDR)</td>\n",
       "      <td>Ontario</td>\n",
       "      <td>F</td>\n",
       "      <td>2731571.0</td>\n",
       "      <td>2615060.0</td>\n",
       "      <td>F</td>\n",
       "      <td>4.5</td>\n",
       "      <td>1179057.0</td>\n",
       "      <td>1112929.0</td>\n",
       "      <td>630.20</td>\n",
       "      <td>4334.4</td>\n",
       "      <td>1.0</td>\n",
       "      <td>1.0</td>\n",
       "    </tr>\n",
       "    <tr>\n",
       "      <th>1</th>\n",
       "      <td>5915</td>\n",
       "      <td>Greater Vancouver</td>\n",
       "      <td>Regional district (RD)</td>\n",
       "      <td>British Columbia</td>\n",
       "      <td>F</td>\n",
       "      <td>2463431.0</td>\n",
       "      <td>2313328.0</td>\n",
       "      <td>F</td>\n",
       "      <td>6.5</td>\n",
       "      <td>1027613.0</td>\n",
       "      <td>960894.0</td>\n",
       "      <td>2882.68</td>\n",
       "      <td>854.6</td>\n",
       "      <td>2.0</td>\n",
       "      <td>1.0</td>\n",
       "    </tr>\n",
       "    <tr>\n",
       "      <th>2</th>\n",
       "      <td>2466</td>\n",
       "      <td>Montr�al</td>\n",
       "      <td>Territoire �quivalent (T�)</td>\n",
       "      <td>Quebec</td>\n",
       "      <td>F</td>\n",
       "      <td>1942044.0</td>\n",
       "      <td>1886481.0</td>\n",
       "      <td>F</td>\n",
       "      <td>2.9</td>\n",
       "      <td>939112.0</td>\n",
       "      <td>870373.0</td>\n",
       "      <td>499.26</td>\n",
       "      <td>3889.8</td>\n",
       "      <td>3.0</td>\n",
       "      <td>1.0</td>\n",
       "    </tr>\n",
       "    <tr>\n",
       "      <th>3</th>\n",
       "      <td>4806</td>\n",
       "      <td>Division No.  6</td>\n",
       "      <td>Census division (CDR)</td>\n",
       "      <td>Alberta</td>\n",
       "      <td>F</td>\n",
       "      <td>1498778.0</td>\n",
       "      <td>1311022.0</td>\n",
       "      <td>F</td>\n",
       "      <td>14.3</td>\n",
       "      <td>586269.0</td>\n",
       "      <td>558912.0</td>\n",
       "      <td>12655.32</td>\n",
       "      <td>118.4</td>\n",
       "      <td>4.0</td>\n",
       "      <td>1.0</td>\n",
       "    </tr>\n",
       "    <tr>\n",
       "      <th>4</th>\n",
       "      <td>3521</td>\n",
       "      <td>Peel</td>\n",
       "      <td>Regional municipality (RM)</td>\n",
       "      <td>Ontario</td>\n",
       "      <td>F</td>\n",
       "      <td>1381739.0</td>\n",
       "      <td>1296809.0</td>\n",
       "      <td>T</td>\n",
       "      <td>6.5</td>\n",
       "      <td>443918.0</td>\n",
       "      <td>430180.0</td>\n",
       "      <td>1246.95</td>\n",
       "      <td>1108.1</td>\n",
       "      <td>5.0</td>\n",
       "      <td>2.0</td>\n",
       "    </tr>\n",
       "  </tbody>\n",
       "</table>\n",
       "</div>"
      ],
      "text/plain": [
       "  Geographic code    Geographic name                     CD type  \\\n",
       "0            3520            Toronto       Census division (CDR)   \n",
       "1            5915  Greater Vancouver      Regional district (RD)   \n",
       "2            2466           Montr�al  Territoire �quivalent (T�)   \n",
       "3            4806    Division No.  6       Census division (CDR)   \n",
       "4            3521               Peel  Regional municipality (RM)   \n",
       "\n",
       "  Province or territory  \\\n",
       "0               Ontario   \n",
       "1      British Columbia   \n",
       "2                Quebec   \n",
       "3               Alberta   \n",
       "4               Ontario   \n",
       "\n",
       "  Incompletely enumerated Indian reserves and Indian settlements, 2016  \\\n",
       "0                                                  F                     \n",
       "1                                                  F                     \n",
       "2                                                  F                     \n",
       "3                                                  F                     \n",
       "4                                                  F                     \n",
       "\n",
       "   Population, 2016  Population, 2011 2011 adjusted population flag  \\\n",
       "0         2731571.0         2615060.0                             F   \n",
       "1         2463431.0         2313328.0                             F   \n",
       "2         1942044.0         1886481.0                             F   \n",
       "3         1498778.0         1311022.0                             F   \n",
       "4         1381739.0         1296809.0                             T   \n",
       "\n",
       "   Population, % change  Total private dwellings, 2016  \\\n",
       "0                   4.5                      1179057.0   \n",
       "1                   6.5                      1027613.0   \n",
       "2                   2.9                       939112.0   \n",
       "3                  14.3                       586269.0   \n",
       "4                   6.5                       443918.0   \n",
       "\n",
       "   Private dwellings occupied by usual residents, 2016  \\\n",
       "0                                          1112929.0     \n",
       "1                                           960894.0     \n",
       "2                                           870373.0     \n",
       "3                                           558912.0     \n",
       "4                                           430180.0     \n",
       "\n",
       "   Land area in square kilometres, 2016  \\\n",
       "0                                630.20   \n",
       "1                               2882.68   \n",
       "2                                499.26   \n",
       "3                              12655.32   \n",
       "4                               1246.95   \n",
       "\n",
       "   Population density per square kilometre, 2016  \\\n",
       "0                                         4334.4   \n",
       "1                                          854.6   \n",
       "2                                         3889.8   \n",
       "3                                          118.4   \n",
       "4                                         1108.1   \n",
       "\n",
       "   National population rank, 2016  \\\n",
       "0                             1.0   \n",
       "1                             2.0   \n",
       "2                             3.0   \n",
       "3                             4.0   \n",
       "4                             5.0   \n",
       "\n",
       "   Provincial/territorial population rank, 2016  \n",
       "0                                           1.0  \n",
       "1                                           1.0  \n",
       "2                                           1.0  \n",
       "3                                           1.0  \n",
       "4                                           2.0  "
      ]
     },
     "execution_count": 3,
     "metadata": {},
     "output_type": "execute_result"
    }
   ],
   "source": [
    "data.head()"
   ]
  },
  {
   "cell_type": "code",
   "execution_count": 4,
   "metadata": {},
   "outputs": [
    {
     "data": {
      "text/plain": [
       "{'2011 adjusted population flag',\n",
       " 'CD type',\n",
       " 'Geographic code',\n",
       " 'Geographic name',\n",
       " 'Incompletely enumerated Indian reserves and Indian settlements, 2016',\n",
       " 'Land area in square kilometres, 2016',\n",
       " 'National population rank, 2016',\n",
       " 'Population density per square kilometre, 2016',\n",
       " 'Population, % change',\n",
       " 'Population, 2011',\n",
       " 'Population, 2016',\n",
       " 'Private dwellings occupied by usual residents, 2016',\n",
       " 'Province or territory',\n",
       " 'Provincial/territorial population rank, 2016',\n",
       " 'Total private dwellings, 2016'}"
      ]
     },
     "execution_count": 4,
     "metadata": {},
     "output_type": "execute_result"
    }
   ],
   "source": [
    "set(data)"
   ]
  },
  {
   "cell_type": "code",
   "execution_count": 5,
   "metadata": {},
   "outputs": [
    {
     "data": {
      "text/plain": [
       "count     293.000000\n",
       "mean       98.576109\n",
       "std       393.111884\n",
       "min         0.000000\n",
       "25%         2.100000\n",
       "50%         7.900000\n",
       "75%        34.700000\n",
       "max      4334.400000\n",
       "Name: Population density per square kilometre, 2016, dtype: float64"
      ]
     },
     "execution_count": 5,
     "metadata": {},
     "output_type": "execute_result"
    }
   ],
   "source": [
    "data['Population density per square kilometre, 2016'].describe()"
   ]
  },
  {
   "cell_type": "code",
   "execution_count": 6,
   "metadata": {},
   "outputs": [
    {
     "data": {
      "text/plain": [
       "4.505479452054794"
      ]
     },
     "execution_count": 6,
     "metadata": {},
     "output_type": "execute_result"
    }
   ],
   "source": [
    "data[data['Population density per square kilometre, 2016'] > 34.7]['Population, % change'].mean()"
   ]
  },
  {
   "cell_type": "code",
   "execution_count": 7,
   "metadata": {},
   "outputs": [
    {
     "data": {
      "text/plain": [
       "1.0821917808219184"
      ]
     },
     "execution_count": 7,
     "metadata": {},
     "output_type": "execute_result"
    }
   ],
   "source": [
    "data[data['Population density per square kilometre, 2016'] < 34.7]['Population, % change'].mean()"
   ]
  },
  {
   "cell_type": "code",
   "execution_count": null,
   "metadata": {},
   "outputs": [],
   "source": []
  }
 ],
 "metadata": {
  "kernelspec": {
   "display_name": "Python 3",
   "language": "python",
   "name": "python3"
  },
  "language_info": {
   "codemirror_mode": {
    "name": "ipython",
    "version": 3
   },
   "file_extension": ".py",
   "mimetype": "text/x-python",
   "name": "python",
   "nbconvert_exporter": "python",
   "pygments_lexer": "ipython3",
   "version": "3.6.4"
  }
 },
 "nbformat": 4,
 "nbformat_minor": 2
}
