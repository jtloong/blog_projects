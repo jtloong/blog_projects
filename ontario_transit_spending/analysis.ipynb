{
 "cells": [
  {
   "cell_type": "code",
   "execution_count": 1,
   "metadata": {},
   "outputs": [],
   "source": [
    "import pandas as pd\n",
    "import seaborn as sns\n",
    "import matplotlib.pyplot as plt\n",
    "% matplotlib inline"
   ]
  },
  {
   "cell_type": "markdown",
   "metadata": {},
   "source": [
    "# Import data and calculate spending per capita"
   ]
  },
  {
   "cell_type": "code",
   "execution_count": 2,
   "metadata": {},
   "outputs": [],
   "source": [
    "data = pd.read_csv('dataset.csv')"
   ]
  },
  {
   "cell_type": "code",
   "execution_count": 3,
   "metadata": {},
   "outputs": [],
   "source": [
    "data.transit_spending = data.transit_spending.apply(lambda i: int(i[1:-3].replace(',', '')))"
   ]
  },
  {
   "cell_type": "code",
   "execution_count": 4,
   "metadata": {},
   "outputs": [
    {
     "data": {
      "text/html": [
       "<div>\n",
       "<style>\n",
       "    .dataframe thead tr:only-child th {\n",
       "        text-align: right;\n",
       "    }\n",
       "\n",
       "    .dataframe thead th {\n",
       "        text-align: left;\n",
       "    }\n",
       "\n",
       "    .dataframe tbody tr th {\n",
       "        vertical-align: top;\n",
       "    }\n",
       "</style>\n",
       "<table border=\"1\" class=\"dataframe\">\n",
       "  <thead>\n",
       "    <tr style=\"text-align: right;\">\n",
       "      <th></th>\n",
       "      <th>area</th>\n",
       "      <th>census_division</th>\n",
       "      <th>city</th>\n",
       "      <th>city_type</th>\n",
       "      <th>population</th>\n",
       "      <th>transit_spending</th>\n",
       "    </tr>\n",
       "  </thead>\n",
       "  <tbody>\n",
       "    <tr>\n",
       "      <th>0</th>\n",
       "      <td>16.9/km2</td>\n",
       "      <td>Hastings</td>\n",
       "      <td>Bancroft</td>\n",
       "      <td>Town</td>\n",
       "      <td>3880</td>\n",
       "      <td>71249</td>\n",
       "    </tr>\n",
       "    <tr>\n",
       "      <th>1</th>\n",
       "      <td>1,428.0/km2</td>\n",
       "      <td>Simcoe</td>\n",
       "      <td>Barrie</td>\n",
       "      <td>City</td>\n",
       "      <td>136063</td>\n",
       "      <td>22017099</td>\n",
       "    </tr>\n",
       "    <tr>\n",
       "      <th>2</th>\n",
       "      <td>25.5/km2</td>\n",
       "      <td>Muskoka</td>\n",
       "      <td>Bracebridge</td>\n",
       "      <td>Town</td>\n",
       "      <td>15414</td>\n",
       "      <td>126394</td>\n",
       "    </tr>\n",
       "    <tr>\n",
       "      <th>3</th>\n",
       "      <td>2,228.7/km2</td>\n",
       "      <td>Peel</td>\n",
       "      <td>Brampton</td>\n",
       "      <td>City</td>\n",
       "      <td>523906</td>\n",
       "      <td>166780412</td>\n",
       "    </tr>\n",
       "    <tr>\n",
       "      <th>4</th>\n",
       "      <td>1,345.9/km2</td>\n",
       "      <td>Brant</td>\n",
       "      <td>Brantford</td>\n",
       "      <td>City</td>\n",
       "      <td>93650</td>\n",
       "      <td>12002944</td>\n",
       "    </tr>\n",
       "  </tbody>\n",
       "</table>\n",
       "</div>"
      ],
      "text/plain": [
       "          area census_division         city city_type  population  \\\n",
       "0     16.9/km2        Hastings     Bancroft      Town        3880   \n",
       "1  1,428.0/km2          Simcoe       Barrie      City      136063   \n",
       "2     25.5/km2         Muskoka  Bracebridge      Town       15414   \n",
       "3  2,228.7/km2            Peel     Brampton      City      523906   \n",
       "4  1,345.9/km2           Brant    Brantford      City       93650   \n",
       "\n",
       "   transit_spending  \n",
       "0             71249  \n",
       "1          22017099  \n",
       "2            126394  \n",
       "3         166780412  \n",
       "4          12002944  "
      ]
     },
     "execution_count": 4,
     "metadata": {},
     "output_type": "execute_result"
    }
   ],
   "source": [
    "data.head()"
   ]
  },
  {
   "cell_type": "code",
   "execution_count": 5,
   "metadata": {},
   "outputs": [],
   "source": [
    "data['spending_per_capita'] = data.transit_spending/ data.population"
   ]
  },
  {
   "cell_type": "code",
   "execution_count": 6,
   "metadata": {},
   "outputs": [
    {
     "data": {
      "text/html": [
       "<div>\n",
       "<style>\n",
       "    .dataframe thead tr:only-child th {\n",
       "        text-align: right;\n",
       "    }\n",
       "\n",
       "    .dataframe thead th {\n",
       "        text-align: left;\n",
       "    }\n",
       "\n",
       "    .dataframe tbody tr th {\n",
       "        vertical-align: top;\n",
       "    }\n",
       "</style>\n",
       "<table border=\"1\" class=\"dataframe\">\n",
       "  <thead>\n",
       "    <tr style=\"text-align: right;\">\n",
       "      <th></th>\n",
       "      <th>area</th>\n",
       "      <th>census_division</th>\n",
       "      <th>city</th>\n",
       "      <th>city_type</th>\n",
       "      <th>population</th>\n",
       "      <th>transit_spending</th>\n",
       "      <th>spending_per_capita</th>\n",
       "    </tr>\n",
       "  </thead>\n",
       "  <tbody>\n",
       "    <tr>\n",
       "      <th>22</th>\n",
       "      <td>480.6/km2</td>\n",
       "      <td>Hamilton</td>\n",
       "      <td>Hamilton</td>\n",
       "      <td>City</td>\n",
       "      <td>519949</td>\n",
       "      <td>109008019</td>\n",
       "      <td>209.651368</td>\n",
       "    </tr>\n",
       "    <tr>\n",
       "      <th>23</th>\n",
       "      <td>42.7/km2</td>\n",
       "      <td>Northumberland</td>\n",
       "      <td>Hamilton</td>\n",
       "      <td>Township</td>\n",
       "      <td>10702</td>\n",
       "      <td>109008019</td>\n",
       "      <td>10185.761446</td>\n",
       "    </tr>\n",
       "  </tbody>\n",
       "</table>\n",
       "</div>"
      ],
      "text/plain": [
       "         area census_division      city city_type  population  \\\n",
       "22  480.6/km2        Hamilton  Hamilton      City      519949   \n",
       "23   42.7/km2  Northumberland  Hamilton  Township       10702   \n",
       "\n",
       "    transit_spending  spending_per_capita  \n",
       "22         109008019           209.651368  \n",
       "23         109008019         10185.761446  "
      ]
     },
     "execution_count": 6,
     "metadata": {},
     "output_type": "execute_result"
    }
   ],
   "source": [
    "data[data.city == 'Hamilton']"
   ]
  },
  {
   "cell_type": "code",
   "execution_count": 8,
   "metadata": {},
   "outputs": [
    {
     "data": {
      "text/html": [
       "<div>\n",
       "<style>\n",
       "    .dataframe thead tr:only-child th {\n",
       "        text-align: right;\n",
       "    }\n",
       "\n",
       "    .dataframe thead th {\n",
       "        text-align: left;\n",
       "    }\n",
       "\n",
       "    .dataframe tbody tr th {\n",
       "        vertical-align: top;\n",
       "    }\n",
       "</style>\n",
       "<table border=\"1\" class=\"dataframe\">\n",
       "  <thead>\n",
       "    <tr style=\"text-align: right;\">\n",
       "      <th></th>\n",
       "      <th>area</th>\n",
       "      <th>census_division</th>\n",
       "      <th>city</th>\n",
       "      <th>city_type</th>\n",
       "      <th>population</th>\n",
       "      <th>transit_spending</th>\n",
       "      <th>spending_per_capita</th>\n",
       "    </tr>\n",
       "  </thead>\n",
       "  <tbody>\n",
       "    <tr>\n",
       "      <th>23</th>\n",
       "      <td>42.7/km2</td>\n",
       "      <td>Northumberland</td>\n",
       "      <td>Hamilton</td>\n",
       "      <td>Township</td>\n",
       "      <td>10702</td>\n",
       "      <td>109008019</td>\n",
       "      <td>10185.761446</td>\n",
       "    </tr>\n",
       "  </tbody>\n",
       "</table>\n",
       "</div>"
      ],
      "text/plain": [
       "        area census_division      city city_type  population  \\\n",
       "23  42.7/km2  Northumberland  Hamilton  Township       10702   \n",
       "\n",
       "    transit_spending  spending_per_capita  \n",
       "23         109008019         10185.761446  "
      ]
     },
     "execution_count": 8,
     "metadata": {},
     "output_type": "execute_result"
    }
   ],
   "source": [
    "data[data.population == 10702]"
   ]
  },
  {
   "cell_type": "code",
   "execution_count": 9,
   "metadata": {},
   "outputs": [],
   "source": [
    "data = data[data.population != 10702]"
   ]
  },
  {
   "cell_type": "markdown",
   "metadata": {},
   "source": [
    "# Plot data with Seaborn"
   ]
  },
  {
   "cell_type": "code",
   "execution_count": 10,
   "metadata": {},
   "outputs": [
    {
     "data": {
      "text/plain": [
       "<matplotlib.axes._subplots.AxesSubplot at 0x7f584d3ca7b8>"
      ]
     },
     "execution_count": 10,
     "metadata": {},
     "output_type": "execute_result"
    },
    {
     "data": {
      "image/png": "[encoded data removed]",
      "text/plain": [
       "<matplotlib.figure.Figure at 0x7f584d3ca128>"
      ]
     },
     "metadata": {},
     "output_type": "display_data"
    }
   ],
   "source": [
    "plt.figure(figsize=(10,25))\n",
    "sns.barplot(y='city', x='spending_per_capita', data=data)"
   ]
  },
  {
   "cell_type": "markdown",
   "metadata": {},
   "source": [
    "# Plot data with Plotly.py"
   ]
  },
  {
   "cell_type": "code",
   "execution_count": 11,
   "metadata": {},
   "outputs": [],
   "source": [
    "import plotly.plotly as py\n",
    "import plotly.graph_objs as go"
   ]
  },
  {
   "cell_type": "code",
   "execution_count": 12,
   "metadata": {},
   "outputs": [
    {
     "name": "stdout",
     "output_type": "stream",
     "text": [
      "['$211.95', '$0.73', '$69.14', '$189.97', '$1.87', '$113.60', '$1,099.99', '$42.29', '$6.64', '$12.01', '$919.01', '$138.54', '$155.73', '$41.48', '$2.39', '$12.33', '$107.19', '$39.40', '$181.47', '$88.10', '$92.32', '$149.92', '$23.81', '$29.12', '$16.33', '$93.69', '$172.85', '$18.17', '$6.02', '$13.24', '$56.01', '$600.75', '$72.18', '$29.14', '$179.76', '$138.70', '$4.11', '$21.53', '$214.30', '$7.81', '$4.08', '$292.23', '$62.33', '$14.58', '$0.65', '$42.82', '$195.31', '$10.87', '$195.22', '$22.33', '$20.26', '$15.76', '$209.65', '$252.45', '$144.68', '$22.18', '$6.19', '$59.00', '$116.55', '$196.32', '$97.31', '$69.28', '$1.69', '$50.09', '$20.52', '$3.18', '$81.74', '$17.49', '$1.25', '$27.83', '$0.23', '$0.92', '$106.77', '$38.15', '$128.17', '$318.34', '$20.51', '$8.20', '$161.82', '$18.36']\n"
     ]
    }
   ],
   "source": [
    "cities = list(data.city)\n",
    "data.spending_per_capita = data.spending_per_capita.apply(lambda i: '${:,.2f}'.format(round(i, 2)))\n",
    "spending_per_capita = list(data.spending_per_capita)\n",
    "cities, spending_per_capita = (list(t) for t in zip(*sorted(zip(cities, spending_per_capita),reverse=True)))\n",
    "print(spending_per_capita)"
   ]
  },
  {
   "cell_type": "code",
   "execution_count": 13,
   "metadata": {},
   "outputs": [
    {
     "data": {
      "text/html": [
       "<iframe id=\"igraph\" scrolling=\"no\" style=\"border:none;\" seamless=\"seamless\" src=\"https://plot.ly/~joshua-t-loong/8.embed\" height=\"1500px\" width=\"590px\"></iframe>"
      ],
      "text/plain": [
       "<plotly.tools.PlotlyDisplay object>"
      ]
     },
     "execution_count": 13,
     "metadata": {},
     "output_type": "execute_result"
    }
   ],
   "source": [
    "graph_data = [go.Bar(\n",
    "            x=spending_per_capita,\n",
    "            y=cities,\n",
    "            orientation = 'h',\n",
    "            marker=dict(\n",
    "                color='rgba(50, 171, 96, 0.6)',\n",
    "                line=dict(\n",
    "                    color='rgba(50, 171, 96, 1.0)',\n",
    "                    width=1),),\n",
    "            name='Ontario transit spending per capita'\n",
    "    \n",
    "    )]\n",
    "layout = go.Layout(\n",
    "    title='Ontario Municipal per Capita Transit Spending',\n",
    "    xaxis=dict(\n",
    "        title='Per Capita Spending ($/person)'\n",
    "    ),\n",
    "    autosize=False,\n",
    "    width=590,\n",
    "    height=1500,\n",
    "    margin=go.Margin(\n",
    "        l=200\n",
    "    ),\n",
    "    paper_bgcolor='rgb(226, 224, 222)',\n",
    "    plot_bgcolor='rgb(226, 224, 222)'\n",
    ")\n",
    "\n",
    "fig = go.Figure(data=graph_data, layout=layout)\n",
    "\n",
    "py.iplot(fig, filename='basic-bar')"
   ]
  },
  {
   "cell_type": "code",
   "execution_count": 16,
   "metadata": {},
   "outputs": [
    {
     "name": "stdout",
     "output_type": "stream",
     "text": [
      "['$919.01', '$13.24', '$211.95', '$600.75', '$292.23', '$116.55', '$318.34', '$209.65', '$7.81', '$195.31', '$6.64', '$189.97', '$179.76', '$106.77', '$144.68', '$161.82', '$181.47', '$195.22', '$252.45', '$155.73', '$17.49', '$1,099.99', '$128.17', '$62.33', '$214.30', '$172.85', '$88.10', '$20.26', '$92.32', '$4.11', '$0.92', '$138.70', '$113.60', '$97.31', '$1.87', '$138.54', '$23.81', '$39.40', '$69.14', '$20.51', '$107.19', '$72.18', '$4.08', '$22.18', '$10.87', '$29.14', '$0.73', '$12.33', '$81.74', '$38.15', '$56.01', '$6.19', '$69.28', '$15.76', '$50.09', '$16.33', '$41.48', '$42.29', '$42.82', '$6.02', '$14.58', '$29.12', '$8.20', '$21.53', '$22.33', '$3.18', '$12.01', '$59.00', '$27.83', '$18.17', '$2.39', '$149.92', '$18.36', '$0.23', '$1.25', '$93.69', '$196.32', '$0.65', '$1.69', '$20.52']\n"
     ]
    }
   ],
   "source": [
    "cities = list(data.city)\n",
    "populations = list(data.population)\n",
    "spending_per_capita = list(data.spending_per_capita)\n",
    "populations, cities, spending_per_capita = (list(t) for t in zip(*sorted(zip(populations, cities, spending_per_capita),reverse=True)))\n",
    "print(spending_per_capita)"
   ]
  },
  {
   "cell_type": "code",
   "execution_count": 17,
   "metadata": {},
   "outputs": [
    {
     "data": {
      "text/html": [
       "<iframe id=\"igraph\" scrolling=\"no\" style=\"border:none;\" seamless=\"seamless\" src=\"https://plot.ly/~joshua-t-loong/10.embed\" height=\"1500px\" width=\"590px\"></iframe>"
      ],
      "text/plain": [
       "<plotly.tools.PlotlyDisplay object>"
      ]
     },
     "execution_count": 17,
     "metadata": {},
     "output_type": "execute_result"
    }
   ],
   "source": [
    "graph_data = [go.Bar(\n",
    "            x=spending_per_capita,\n",
    "            y=cities,\n",
    "            orientation = 'h',\n",
    "            marker=dict(\n",
    "                color='rgba(50, 171, 96, 0.6)',\n",
    "                line=dict(\n",
    "                    color='rgba(50, 171, 96, 1.0)',\n",
    "                    width=1),),\n",
    "            name='Ontario transit spending per capita'\n",
    "    \n",
    "    )]\n",
    "layout = go.Layout(\n",
    "    title='Ontario Municipal per Capita Transit Spending',\n",
    "    xaxis=dict(\n",
    "        title='Per Capita Spending ($/person)'\n",
    "    ),\n",
    "    autosize=False,\n",
    "    width=590,\n",
    "    height=1500,\n",
    "    margin=go.Margin(\n",
    "        l=200\n",
    "    ),\n",
    "    paper_bgcolor='rgb(226, 224, 222)',\n",
    "    plot_bgcolor='rgb(226, 224, 222)'\n",
    ")\n",
    "\n",
    "fig = go.Figure(data=graph_data, layout=layout)\n",
    "\n",
    "py.iplot(fig, filename='transit_sorted_by_pop')"
   ]
  },
  {
   "cell_type": "code",
   "execution_count": null,
   "metadata": {},
   "outputs": [],
   "source": []
  }
 ],
 "metadata": {
  "kernelspec": {
   "display_name": "Python 3",
   "language": "python",
   "name": "python3"
  },
  "language_info": {
   "codemirror_mode": {
    "name": "ipython",
    "version": 3
   },
   "file_extension": ".py",
   "mimetype": "text/x-python",
   "name": "python",
   "nbconvert_exporter": "python",
   "pygments_lexer": "ipython3",
   "version": "3.6.4"
  }
 },
 "nbformat": 4,
 "nbformat_minor": 2
}
